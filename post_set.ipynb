{
 "cells": [
  {
   "cell_type": "markdown",
   "metadata": {},
   "source": [
    "## Load data"
   ]
  },
  {
   "cell_type": "code",
   "execution_count": 2,
   "metadata": {},
   "outputs": [],
   "source": [
    "import json"
   ]
  },
  {
   "cell_type": "code",
   "execution_count": 2,
   "metadata": {},
   "outputs": [],
   "source": [
    "data = json.loads(open('healthboards/items.json', 'r').read())"
   ]
  },
  {
   "cell_type": "code",
   "execution_count": 3,
   "metadata": {},
   "outputs": [],
   "source": [
    "categories = list(map(lambda x: x['url'].split('/')[-2], data))"
   ]
  },
  {
   "cell_type": "code",
   "execution_count": 4,
   "metadata": {},
   "outputs": [],
   "source": [
    "from collections import Counter"
   ]
  },
  {
   "cell_type": "code",
   "execution_count": 30,
   "metadata": {},
   "outputs": [
    {
     "data": {
      "text/plain": [
       "[('thyroid-disorders', 15545),\n",
       " ('foot-ankle-problems', 12257),\n",
       " ('womens-health', 11941),\n",
       " ('back-problems', 10434),\n",
       " ('general-health', 8209),\n",
       " ('bowel-disorders', 8185),\n",
       " ('dental-health', 7283),\n",
       " ('open-all-other-health-topics', 6641),\n",
       " ('acid-reflux-gerd', 6410),\n",
       " ('heart-disorders', 5889),\n",
       " ('menopause', 5854),\n",
       " ('herpes', 5315),\n",
       " ('high-low-blood-pressure', 5301),\n",
       " ('relationship-health', 5113),\n",
       " ('digestive-disorders', 5064),\n",
       " ('pregnancy', 5035),\n",
       " ('tmj-disorder-temporomandibular-joint', 5018),\n",
       " ('multiple-sclerosis', 4710),\n",
       " ('eye-vision', 4665),\n",
       " ('ear-nose-throat', 4576),\n",
       " ('skin-problems', 4151),\n",
       " ('birth-control', 4094),\n",
       " ('spinal-cord-disorders', 3776),\n",
       " ('addiction-recovery', 3644),\n",
       " ('fibromyalgia', 3565),\n",
       " ('allergies', 3496),\n",
       " ('lupus', 3294),\n",
       " ('inner-ear-disorders', 3173),\n",
       " ('kidney-disorders', 2978),\n",
       " ('urology', 2974),\n",
       " ('anemia', 2932),\n",
       " ('weight-loss', 2925),\n",
       " ('bipolar-disorder', 2822),\n",
       " ('liver-pancreas-disorders', 2662),\n",
       " ('cancer-cervical-ovarian', 2654),\n",
       " ('obsessive-compulsive-disorder-ocd', 2625),\n",
       " ('irritable-bowel-syndrome-ibs', 2513),\n",
       " ('headaches-migraines', 2493),\n",
       " ('arthritis', 2482),\n",
       " ('add-adhd', 2413),\n",
       " ('high-cholesterol', 2392),\n",
       " ('asthma', 2348),\n",
       " ('gallbladder', 2247),\n",
       " ('lung-respiratory-disorders-copd', 2219),\n",
       " ('knee-hip-problems', 2202),\n",
       " ('childrens-health', 1858),\n",
       " ('neuropathy', 1854),\n",
       " ('beauty-cosmetics', 1853),\n",
       " ('brain-nervous-system-disorders', 1801),\n",
       " ('sleep-disorders', 1748),\n",
       " ('sinus-problems', 1622),\n",
       " ('blood-blood-vessel', 1604),\n",
       " ('nail-problems', 1595),\n",
       " ('epilepsy', 1586),\n",
       " ('exercise-fitness', 1579),\n",
       " ('diet-nutrition', 1545),\n",
       " ('cancer-colon', 1521),\n",
       " ('human-papillomavirus-hpv', 1506),\n",
       " ('alzheimers-disease-dementia', 1488),\n",
       " ('panic-disorders', 1446),\n",
       " ('lymphomas', 1433),\n",
       " ('vitamins-supplements', 1430),\n",
       " ('osteoporosis', 1413),\n",
       " ('disabilities', 1339),\n",
       " ('cosmetic-plastic-surgery', 1307),\n",
       " ('reflex-sympathetic-dystrophy-rsd-crps', 1278),\n",
       " ('infant-care-up-18-months-old', 1264),\n",
       " ('cancer-prostate', 1240),\n",
       " ('hair-problems', 1199),\n",
       " ('pregnancy-teen', 1194),\n",
       " ('addisons-disease', 1190),\n",
       " ('cancer-skin', 1183),\n",
       " ('cancer-breast', 1172),\n",
       " ('trying-conceive-ttc', 1090),\n",
       " ('hearing-disorders', 1085),\n",
       " ('cancer', 1069),\n",
       " ('stroke', 1015),\n",
       " ('autism-spectrum', 983),\n",
       " ('cancer-lung', 947),\n",
       " ('smoking-cessation', 937),\n",
       " ('bone-disorders', 936),\n",
       " ('lasik-eye-surgery', 916),\n",
       " ('dizziness-vertigo', 902),\n",
       " ('drug-interactions-side-effects', 868),\n",
       " ('hernia', 854),\n",
       " ('shoulder-rotator-cuff-problems', 843),\n",
       " ('hysterectomy', 835),\n",
       " ('parenting-issues', 803),\n",
       " ('alternative-medicine', 769),\n",
       " ('carpal-tunnel-syndrome', 765),\n",
       " ('eating-disorder-recovery', 762),\n",
       " ('autoimmune-disorders', 760),\n",
       " ('chronic-pain', 735),\n",
       " ('hair-loss-alopecia', 693),\n",
       " ('chronic-fatigue', 662),\n",
       " ('hormone-problems', 642),\n",
       " ('cerebral-palsy', 616),\n",
       " ('leukemia', 606),\n",
       " ('polycystic-ovary-syndrome-pcos', 593),\n",
       " ('teen-health', 584),\n",
       " ('immune-disorders', 580),\n",
       " ('family-friends-mentally-ill', 554),\n",
       " ('amyotrophic-lateral-sclerosis-als', 536),\n",
       " ('restless-leg-syndrome', 528),\n",
       " ('rare-disorders', 512),\n",
       " ('schizophrenia', 511),\n",
       " ('cancer-bladder', 500),\n",
       " ('neuromuscular-diseases', 495),\n",
       " ('hepatitis', 487),\n",
       " ('death-dying', 468),\n",
       " ('health-insurance-ssdi-issues', 452),\n",
       " ('parkinsons-disease', 435),\n",
       " ('neurology', 435),\n",
       " ('stress', 415),\n",
       " ('miscarriage-still-birth', 412),\n",
       " ('crohns-disease-ulcerative-colitis', 393),\n",
       " ('grief-loss', 390),\n",
       " ('aging-issues', 381),\n",
       " ('cancer-uterine', 371),\n",
       " ('candida', 366),\n",
       " ('endometriosis', 363),\n",
       " ('shingles', 353),\n",
       " ('sj-grens-syndrome', 353),\n",
       " ('brain-tumors', 345),\n",
       " ('orthopedic', 338),\n",
       " ('cancer-thyroid', 327),\n",
       " ('arm-wrist-hand', 314),\n",
       " ('family-friends-addicts-alcoholics', 312),\n",
       " ('muscular-dystrophy', 307),\n",
       " ('obesity', 295),\n",
       " ('cancer-pancreatic-liver', 293),\n",
       " ('burns-injuries', 286),\n",
       " ('hypochondria', 282),\n",
       " ('anger-management', 275),\n",
       " ('post-traumatic-stress-disorder-ptsd', 270),\n",
       " ('down-syndrome', 248),\n",
       " ('phobias', 245),\n",
       " ('divorce-separation', 241),\n",
       " ('trigeminal-neuralgia', 235),\n",
       " ('personality-disorder', 221),\n",
       " ('endocrine-disorders', 219),\n",
       " ('epstein-barr-virus-ebv', 219),\n",
       " ('pituitary-disease', 215),\n",
       " ('nutritional-disorders', 214),\n",
       " ('costochondritis', 212),\n",
       " ('celiac-disease', 207),\n",
       " ('adrenal-disorders', 206),\n",
       " ('cystic-fibrosis', 205),\n",
       " ('bells-palsy', 203),\n",
       " ('angina', 196),\n",
       " ('arachnoiditis', 196),\n",
       " ('incontinence', 192),\n",
       " ('brain-head-injury', 191),\n",
       " ('family-friends-cancer-patients', 183),\n",
       " ('myositis', 182),\n",
       " ('psoriasis', 180),\n",
       " ('vaccination-immunization', 180),\n",
       " ('rosacea', 179),\n",
       " ('aspergers-syndrome', 177),\n",
       " ('interstitial-cystitis-ic', 177),\n",
       " ('caregivers', 174),\n",
       " ('hypoglycemia', 168),\n",
       " ('self-injury-recovery', 166),\n",
       " ('dysphagia', 163),\n",
       " ('cancer-throat', 158),\n",
       " ('mononucleosis', 148),\n",
       " ('healthcare-professionals', 135),\n",
       " ('cancer-rectal-anal', 129),\n",
       " ('abuse-support', 128),\n",
       " ('environmental-disorders', 122),\n",
       " ('hiv-aids-living', 121),\n",
       " ('raynauds-syndrome', 120),\n",
       " ('aneurysm', 118),\n",
       " ('breastfeeding', 116),\n",
       " ('scoliosis', 110),\n",
       " ('cancer-stomach', 107),\n",
       " ('healthy-lifestyle', 103),\n",
       " ('cancer-oral', 101),\n",
       " ('mesothelioma', 100),\n",
       " ('sarcoidosis', 98),\n",
       " ('cancer-bone', 95),\n",
       " ('amputation-prosthetic', 94),\n",
       " ('military-health-issues', 93),\n",
       " ('swine-flu-h1n1', 86),\n",
       " ('cancer-kidney', 86),\n",
       " ('polio', 85),\n",
       " ('codependency', 83),\n",
       " ('cancer-bowel', 77),\n",
       " ('cancer-testicular', 76),\n",
       " ('cancer-esophageal', 73),\n",
       " ('tourette-syndrome', 71),\n",
       " ('weight-loss-surgical', 64),\n",
       " ('learning-disorders', 64),\n",
       " ('hospice', 62),\n",
       " ('chemotherapy', 62),\n",
       " ('acne-tips', 59),\n",
       " ('share-your-depression-story', 57),\n",
       " ('sudden-infant-death-syndrome-sids', 55),\n",
       " ('acute-respiratory-distress-syndrome-ards', 50),\n",
       " ('degenerative-diseases', 47),\n",
       " ('share-your-acne-story', 46),\n",
       " ('lymphedema', 46),\n",
       " ('postpartum-depression-ppd', 45),\n",
       " ('share-your-anxiety-story', 44),\n",
       " ('cancer-brain', 43),\n",
       " ('anxiety-tips', 42),\n",
       " ('children-special-needs', 40),\n",
       " ('its-life-off-topic-discussions', 39),\n",
       " ('transplants', 35),\n",
       " ('dyslexia', 34),\n",
       " ('west-nile-virus', 33),\n",
       " ('senior-health', 30),\n",
       " ('neurofibromatosis', 30),\n",
       " ('shyness', 29),\n",
       " ('share-your-pain-management-story', 29),\n",
       " ('speech-language-disorders', 28),\n",
       " ('depression-tips', 27),\n",
       " ('genetic-disorders', 27),\n",
       " ('anxiety', 26),\n",
       " ('healthboards-testimonials', 26),\n",
       " ('depression', 25),\n",
       " ('pain-management', 25),\n",
       " ('natural-disaster-sympathies-support', 25),\n",
       " ('lyme-disease', 24),\n",
       " ('diabetes', 22),\n",
       " ('infertility', 22),\n",
       " ('acne', 21),\n",
       " ('colds-flu', 20),\n",
       " ('paralysis', 19),\n",
       " ('share-your-lyme-disease-story', 18),\n",
       " ('share-your-infertility-story', 17),\n",
       " ('family-planning-adoption', 16),\n",
       " ('registration-membership-site-problems', 16),\n",
       " ('occupational-health-safety', 12),\n",
       " ('health-news', 10),\n",
       " ('sickle-cell-anemia', 8),\n",
       " ('hemochromatosis', 3),\n",
       " ('suggestions-new-boards', 1)]"
      ]
     },
     "execution_count": 30,
     "metadata": {},
     "output_type": "execute_result"
    }
   ],
   "source": [
    "Counter(categories).most_common()"
   ]
  },
  {
   "cell_type": "code",
   "execution_count": 10,
   "metadata": {},
   "outputs": [],
   "source": [
    " selected_items = [('general-health', 8209)]"
   ]
  },
  {
   "cell_type": "code",
   "execution_count": 5,
   "metadata": {},
   "outputs": [],
   "source": [
    "selected_items = [\n",
    "    ('digestive-disorders', 5064),\n",
    "('addiction-recovery', 3644),\n",
    "('sleep-disorders', 1748),\n",
    "('smoking-cessation', 937),\n",
    "('eating-disorder-recovery', 762),\n",
    "('chronic-pain', 735),\n",
    "('chronic-fatigue', 662),\n",
    "('stress', 415),\n",
    "('family-friends-addicts-alcoholics', 312),\n",
    "('pain-management', 25)]"
   ]
  },
  {
   "cell_type": "code",
   "execution_count": 11,
   "metadata": {},
   "outputs": [],
   "source": [
    "selected_categories = dict(selected_items).keys()"
   ]
  },
  {
   "cell_type": "code",
   "execution_count": 12,
   "metadata": {},
   "outputs": [],
   "source": [
    "selected_posts = list(set(filter(lambda x: x, \n",
    "                                 map(lambda x: x['post'], \n",
    "                                     filter(lambda x: x['url'].split('/')[-2] in selected_categories, data)))))"
   ]
  },
  {
   "cell_type": "code",
   "execution_count": 13,
   "metadata": {},
   "outputs": [
    {
     "data": {
      "text/plain": [
       "7133"
      ]
     },
     "execution_count": 13,
     "metadata": {},
     "output_type": "execute_result"
    }
   ],
   "source": [
    "len(selected_posts)"
   ]
  },
  {
   "cell_type": "code",
   "execution_count": 14,
   "metadata": {},
   "outputs": [],
   "source": [
    "json.dump(selected_posts, open('selected_posts.json', 'w'))"
   ]
  },
  {
   "cell_type": "code",
   "execution_count": 3,
   "metadata": {},
   "outputs": [],
   "source": [
    "posts = json.loads(open('selected_posts.json', 'r').read())"
   ]
  },
  {
   "cell_type": "code",
   "execution_count": 3,
   "metadata": {},
   "outputs": [],
   "source": [
    "posts = json.loads(open('general_health.json', 'r').read())"
   ]
  },
  {
   "cell_type": "code",
   "execution_count": 14,
   "metadata": {},
   "outputs": [],
   "source": [
    "posts = list(set(filter(lambda x: x and not re.search(pat, x), map(lambda x: x['post'], data))))"
   ]
  },
  {
   "cell_type": "code",
   "execution_count": 15,
   "metadata": {},
   "outputs": [
    {
     "data": {
      "text/plain": [
       "272552"
      ]
     },
     "execution_count": 15,
     "metadata": {},
     "output_type": "execute_result"
    }
   ],
   "source": [
    "len(posts)"
   ]
  },
  {
   "cell_type": "markdown",
   "metadata": {},
   "source": []
  },
  {
   "cell_type": "code",
   "execution_count": 9,
   "metadata": {},
   "outputs": [],
   "source": [
    "json.dump(data[:100], open('subset.json', 'w'))"
   ]
  },
  {
   "cell_type": "code",
   "execution_count": 2,
   "metadata": {},
   "outputs": [],
   "source": [
    "data = json.loads(open('subset.json', 'r').read())"
   ]
  },
  {
   "cell_type": "markdown",
   "metadata": {},
   "source": [
    "# Preprocess into sentences"
   ]
  },
  {
   "cell_type": "code",
   "execution_count": 4,
   "metadata": {},
   "outputs": [],
   "source": [
    "import spacy\n",
    "nlp = spacy.blank('en')\n",
    "nlp.add_pipe(nlp.create_pipe('sentencizer'))"
   ]
  },
  {
   "cell_type": "code",
   "execution_count": 5,
   "metadata": {},
   "outputs": [],
   "source": [
    "import nltk,re\n",
    "\n",
    "def get_good_tokens(sentence):\n",
    "    stopwords = nltk.corpus.stopwords.words('english')+['pron']        \n",
    "    \n",
    "    replaced_punctation = list(map(lambda token: re.sub('[^0-9A-Za-z]+', '', token), sentence))\n",
    "    replaced_numbers = list(map(lambda token: re.sub('[0-9]+', '_num_', token), replaced_punctation))\n",
    "    removed_punctation = list(filter(lambda token: token, replaced_numbers))\n",
    "    removed_stopwords = list(filter(lambda token: token not in stopwords, removed_punctation))\n",
    "    return removed_stopwords"
   ]
  },
  {
   "cell_type": "code",
   "execution_count": 6,
   "metadata": {},
   "outputs": [],
   "source": [
    "import re"
   ]
  },
  {
   "cell_type": "code",
   "execution_count": 7,
   "metadata": {},
   "outputs": [],
   "source": [
    "pat = re.compile(r'This message has been edited by \\w+ \\( edited [0-9]+ - [0-9]+ - [0-9]+ \\)')"
   ]
  },
  {
   "cell_type": "code",
   "execution_count": 8,
   "metadata": {},
   "outputs": [],
   "source": [
    "tokenized_posts = list(map(lambda post: \n",
    "                           list((get_good_tokens([token.text.lower() for token in sent]), sent)\n",
    "                                for sent in nlp(post).sents if not re.search(pat, str(sent))), \n",
    "                    posts))"
   ]
  },
  {
   "cell_type": "code",
   "execution_count": 9,
   "metadata": {},
   "outputs": [],
   "source": [
    "tokenized_posts = sum(tokenized_posts, [])"
   ]
  },
  {
   "cell_type": "code",
   "execution_count": 10,
   "metadata": {},
   "outputs": [],
   "source": [
    "filtered_tokenized_posts = list(filter(lambda x: len(x[0])>=1 and len(x[0])<=7, tokenized_posts))"
   ]
  },
  {
   "cell_type": "code",
   "execution_count": 11,
   "metadata": {},
   "outputs": [
    {
     "data": {
      "text/plain": [
       "115237"
      ]
     },
     "execution_count": 11,
     "metadata": {},
     "output_type": "execute_result"
    }
   ],
   "source": [
    "len(filtered_tokenized_posts)"
   ]
  },
  {
   "cell_type": "code",
   "execution_count": 12,
   "metadata": {},
   "outputs": [
    {
     "data": {
      "text/plain": [
       "(['dear', 'sarah_num_', 'writing', 'still', 'problems', 'knees'], Dear Sarah68:\n",
       " \n",
       " I am writing to you again because I still have problems with my knees.)"
      ]
     },
     "execution_count": 12,
     "metadata": {},
     "output_type": "execute_result"
    }
   ],
   "source": [
    "filtered_tokenized_posts[0]"
   ]
  },
  {
   "cell_type": "code",
   "execution_count": 13,
   "metadata": {},
   "outputs": [],
   "source": [
    "import pandas as pd"
   ]
  },
  {
   "cell_type": "code",
   "execution_count": 14,
   "metadata": {},
   "outputs": [],
   "source": [
    "new_data = pd.DataFrame(filtered_tokenized_posts, columns=['clean_text', 'text'])"
   ]
  },
  {
   "cell_type": "code",
   "execution_count": 15,
   "metadata": {},
   "outputs": [],
   "source": [
    "new_data.text = new_data.text.apply(lambda x: ' '.join([word.text for word in x]))"
   ]
  },
  {
   "cell_type": "code",
   "execution_count": 16,
   "metadata": {},
   "outputs": [],
   "source": [
    "new_data.to_csv('general_health.tsv', sep='\\t')"
   ]
  },
  {
   "cell_type": "code",
   "execution_count": null,
   "metadata": {},
   "outputs": [],
   "source": []
  },
  {
   "cell_type": "code",
   "execution_count": 44,
   "metadata": {},
   "outputs": [],
   "source": [
    "import numpy as np"
   ]
  },
  {
   "cell_type": "code",
   "execution_count": 50,
   "metadata": {},
   "outputs": [],
   "source": [
    "all_lens = np.array(list(map(lambda post: \n",
    "                np.fromiter((len(sent) for sent in post), dtype=np.int), tokenized_posts)))"
   ]
  },
  {
   "cell_type": "code",
   "execution_count": 51,
   "metadata": {},
   "outputs": [],
   "source": [
    "flat_lens = np.hstack(all_lens)"
   ]
  },
  {
   "cell_type": "code",
   "execution_count": 52,
   "metadata": {},
   "outputs": [
    {
     "data": {
      "text/plain": [
       "{'min': 1, 'max': 98, 'mean': 8.186475409836065, 'std': 7.67981583007181}"
      ]
     },
     "execution_count": 52,
     "metadata": {},
     "output_type": "execute_result"
    }
   ],
   "source": [
    "stat_general = {\n",
    "    'min': flat_lens.min(),\n",
    "    'max': flat_lens.max(),\n",
    "    'mean': flat_lens.mean(),\n",
    "    'std': flat_lens.std(),\n",
    "}\n",
    "stat_general"
   ]
  },
  {
   "cell_type": "code",
   "execution_count": 53,
   "metadata": {},
   "outputs": [],
   "source": [
    "all_lens_stat = np.array(list(map(\n",
    "    lambda x: np.array((np.min(x), np.max(x), np.mean(x), np.std(x))),\n",
    "        list(map(lambda post: post[post<100], all_lens)))))"
   ]
  },
  {
   "cell_type": "code",
   "execution_count": 54,
   "metadata": {},
   "outputs": [
    {
     "data": {
      "text/plain": [
       "98.0"
      ]
     },
     "execution_count": 54,
     "metadata": {},
     "output_type": "execute_result"
    }
   ],
   "source": [
    "all_lens_stat.max()"
   ]
  },
  {
   "cell_type": "code",
   "execution_count": 55,
   "metadata": {},
   "outputs": [],
   "source": [
    "flat_lens = np.hstack(list(filter(lambda post: len(post)>0, \n",
    "    map(lambda post: post[post<100], all_lens))))"
   ]
  },
  {
   "cell_type": "code",
   "execution_count": 56,
   "metadata": {},
   "outputs": [
    {
     "data": {
      "text/plain": [
       "10"
      ]
     },
     "execution_count": 56,
     "metadata": {},
     "output_type": "execute_result"
    }
   ],
   "source": [
    "len(all_lens_stat)"
   ]
  },
  {
   "cell_type": "code",
   "execution_count": 57,
   "metadata": {},
   "outputs": [],
   "source": [
    "stat_per_post = dict(zip(['min', 'max', 'mean', 'std'], all_lens_stat.mean(axis=0)))"
   ]
  },
  {
   "cell_type": "code",
   "execution_count": 59,
   "metadata": {},
   "outputs": [],
   "source": [
    "import matplotlib.pyplot as plt"
   ]
  },
  {
   "cell_type": "code",
   "execution_count": 60,
   "metadata": {},
   "outputs": [
    {
     "name": "stdout",
     "output_type": "stream",
     "text": [
      "{'min': 1, 'max': 98, 'mean': 8.186475409836065, 'std': 7.67981583007181}\n",
      "{'min': 1.3, 'max': 37.2, 'mean': 9.018123833507762, 'std': 7.35792398786365}\n"
     ]
    },
    {
     "data": {
      "image/png": "[encoded data removed]",
      "text/plain": [
       "<Figure size 1152x360 with 2 Axes>"
      ]
     },
     "metadata": {
      "needs_background": "light"
     },
     "output_type": "display_data"
    }
   ],
   "source": [
    "fig1, (ax1, ax2) = plt.subplots(1,2, figsize=(16,5))\n",
    "\n",
    "ax1.set_title('Per Post Stats Dist')\n",
    "ax1.boxplot(all_lens_stat, labels=['min', 'max', 'mean', 'std'])\n",
    "\n",
    "ax2.set_title('Sentence len dist')\n",
    "ax2.hist(flat_lens, bins=10)\n",
    "\n",
    "print(stat_general)\n",
    "print(stat_per_post)\n"
   ]
  },
  {
   "cell_type": "code",
   "execution_count": 286,
   "metadata": {},
   "outputs": [],
   "source": [
    "import numpy as np\n",
    "import matplotlib.pyplot as plt\n",
    "\n",
    "def text_dataset_stat(sentences, remove_stop_words=False):\n",
    "    if remove_stop_words:\n",
    "        all_lens = np.array(list(map(lambda post: \n",
    "                        np.fromiter(\n",
    "                            (len([token.text for token in sent if not token.is_stop]) for sent in nlp(post).sents),\n",
    "                             dtype=np.int), sentences)))\n",
    "    else:\n",
    "        all_lens = np.array(list(map(lambda post: \n",
    "                        np.fromiter((len(sent) for sent in nlp(post['post']).sents), dtype=np.int), \n",
    "                                 sentences)))\n",
    "    flat_lens = np.hstack(all_lens)\n",
    "    stat_general = {\n",
    "        'min': flat_lens.min(),\n",
    "        'max': flat_lens.max(),\n",
    "        'mean': flat_lens.mean(),\n",
    "        'std': flat_lens.std(),\n",
    "    }\n",
    "    all_lens_stat = np.array(list(map(\n",
    "        lambda x: np.array((np.min(x), np.max(x), np.mean(x), np.std(x))), all_lens)))\n",
    "    stat_per_post = dict(zip(['min', 'max', 'mean', 'std'], all_lens_stat.mean(axis=0)))\n",
    "    \n",
    "    fig1, (ax1, ax2) = plt.subplots(1,2, figsize=(16,5))\n",
    "    \n",
    "    ax1.set_title('Per Post Stats Dist')\n",
    "    ax1.boxplot(all_lens_stat, labels=['min', 'max', 'mean', 'std'])\n",
    "    \n",
    "    ax2.set_title('Sentence len dist')\n",
    "    ax2.hist(flat_lens)\n",
    "    \n",
    "    print(stat_general)\n",
    "    print(stat_per_post)\n",
    "    \n",
    "    #return stat_general, stat_per_post"
   ]
  },
  {
   "cell_type": "code",
   "execution_count": null,
   "metadata": {},
   "outputs": [],
   "source": [
    "print(text_dataset_stat(posts[1:], True))"
   ]
  }
 ],
 "metadata": {
  "kernelspec": {
   "display_name": "Python 3",
   "language": "python",
   "name": "python3"
  },
  "language_info": {
   "codemirror_mode": {
    "name": "ipython",
    "version": 3
   },
   "file_extension": ".py",
   "mimetype": "text/x-python",
   "name": "python",
   "nbconvert_exporter": "python",
   "pygments_lexer": "ipython3",
   "version": "3.6.6"
  }
 },
 "nbformat": 4,
 "nbformat_minor": 2
}
