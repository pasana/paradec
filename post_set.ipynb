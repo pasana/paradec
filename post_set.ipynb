{
 "cells": [
  {
   "cell_type": "code",
   "execution_count": 1,
   "metadata": {},
   "outputs": [],
   "source": [
    "import json"
   ]
  },
  {
   "cell_type": "code",
   "execution_count": 176,
   "metadata": {},
   "outputs": [],
   "source": [
    "data = json.loads(open('healthboards/items.json', 'r').read())"
   ]
  },
  {
   "cell_type": "code",
   "execution_count": 190,
   "metadata": {},
   "outputs": [],
   "source": [
    "posts = set(map(lambda x: x['post'], data))"
   ]
  },
  {
   "cell_type": "code",
   "execution_count": 192,
   "metadata": {},
   "outputs": [
    {
     "data": {
      "text/plain": [
       "272553"
      ]
     },
     "execution_count": 192,
     "metadata": {},
     "output_type": "execute_result"
    }
   ],
   "source": [
    "len(posts)"
   ]
  },
  {
   "cell_type": "code",
   "execution_count": 9,
   "metadata": {},
   "outputs": [],
   "source": [
    "json.dump(data[:1000], open('subset.json', 'w'))"
   ]
  },
  {
   "cell_type": "code",
   "execution_count": 2,
   "metadata": {},
   "outputs": [],
   "source": [
    "data = json.loads(open('subset.json', 'r').read())"
   ]
  },
  {
   "cell_type": "code",
   "execution_count": 15,
   "metadata": {},
   "outputs": [],
   "source": [
    "import spacy\n",
    "nlp = spacy.blank('en')\n",
    "nlp.add_pipe(nlp.create_pipe('sentencizer'))"
   ]
  },
  {
   "cell_type": "code",
   "execution_count": 22,
   "metadata": {},
   "outputs": [
    {
     "data": {
      "text/plain": [
       "{'post': 'I just wanted to say Thank You to Tree Frog for all the listings on this subject. I have been reading all the sites that are listed. And have been reading them now for 4 hours. My eyes are sore. But they have helped me to understand a little bit more. I am hoping that the Synthroid helps me out. I have just recentely turned 50, and it seems that my health is starting to turn against me. So I guess it is time for me to fight back. It is going to be hard at first. I take Lipitor, Celebrex, Vit. E, and a Multivitamin. And now it seems that I have to change the times I take this stuff. Oh well. I guess I will learn.\\nSorry this is so long. Again THANKS Tree Frog.\\nWell, I have been hypo for 5 years now. I used to be at 317 TSH but now stay around 5 or so. I am on synthroid at a level of .350. Thanks for the internet lead. I will check it out. I am sick of this thing. Losing weight is all but impossible. Phen Phen was working great, but you know the reat of the story on that one.',\n",
       " 'url': 'https://www.healthboards.com/boards/thyroid-disorders/800577-thyroid-problems.html'}"
      ]
     },
     "execution_count": 22,
     "metadata": {},
     "output_type": "execute_result"
    }
   ],
   "source": [
    "data[10]"
   ]
  },
  {
   "cell_type": "code",
   "execution_count": null,
   "metadata": {},
   "outputs": [],
   "source": []
  },
  {
   "cell_type": "code",
   "execution_count": 201,
   "metadata": {},
   "outputs": [],
   "source": [
    "all_lens = np.array(list(map(lambda post: \n",
    "                np.fromiter(\n",
    "                    (len([token.text for token in sent if not token.is_stop]) for sent in nlp(post).sents),\n",
    "                     dtype=np.int), posts)))"
   ]
  },
  {
   "cell_type": "code",
   "execution_count": null,
   "metadata": {},
   "outputs": [],
   "source": [
    "flat_lens = np.hstack(all_lens)"
   ]
  },
  {
   "cell_type": "code",
   "execution_count": 203,
   "metadata": {},
   "outputs": [],
   "source": [
    "stat_general = {\n",
    "    'min': flat_lens.min(),\n",
    "    'max': flat_lens.max(),\n",
    "    'mean': flat_lens.mean(),\n",
    "    'std': flat_lens.std(),\n",
    "}"
   ]
  },
  {
   "cell_type": "code",
   "execution_count": 278,
   "metadata": {},
   "outputs": [],
   "source": [
    "all_lens_stat = np.array(list(map(\n",
    "    lambda x: np.array((np.min(x), np.max(x), np.mean(x), np.std(x))),\n",
    "        list(filter(lambda post: len(post)>0, \n",
    "    map(lambda post: post[post<30], all_lens))))))"
   ]
  },
  {
   "cell_type": "code",
   "execution_count": 279,
   "metadata": {},
   "outputs": [
    {
     "data": {
      "text/plain": [
       "29.0"
      ]
     },
     "execution_count": 279,
     "metadata": {},
     "output_type": "execute_result"
    }
   ],
   "source": [
    "all_lens_stat.max()"
   ]
  },
  {
   "cell_type": "code",
   "execution_count": 285,
   "metadata": {},
   "outputs": [],
   "source": [
    "flat_lens = np.hstack(list(filter(lambda post: len(post)>0, \n",
    "    map(lambda post: post[post<30], all_lens))))"
   ]
  },
  {
   "cell_type": "code",
   "execution_count": 280,
   "metadata": {},
   "outputs": [
    {
     "data": {
      "text/plain": [
       "271861"
      ]
     },
     "execution_count": 280,
     "metadata": {},
     "output_type": "execute_result"
    }
   ],
   "source": [
    "len(all_lens_stat)"
   ]
  },
  {
   "cell_type": "code",
   "execution_count": 281,
   "metadata": {},
   "outputs": [],
   "source": [
    "stat_per_post = dict(zip(['min', 'max', 'mean', 'std'], all_lens_stat.mean(axis=0)))"
   ]
  },
  {
   "cell_type": "code",
   "execution_count": 287,
   "metadata": {},
   "outputs": [
    {
     "name": "stdout",
     "output_type": "stream",
     "text": [
      "{'min': 0, 'max': 2027, 'mean': 10.932588521491454, 'std': 8.964716092053479}\n",
      "{'min': 3.0906713357193567, 'max': 22.281596109776686, 'mean': 10.023516230005018, 'std': 4.887651106742273}\n"
     ]
    },
    {
     "data": {
      "image/png": "[encoded data removed]",
      "text/plain": [
       "<Figure size 1152x360 with 2 Axes>"
      ]
     },
     "metadata": {
      "needs_background": "light"
     },
     "output_type": "display_data"
    }
   ],
   "source": [
    "fig1, (ax1, ax2) = plt.subplots(1,2, figsize=(16,5))\n",
    "\n",
    "ax1.set_title('Per Post Stats Dist')\n",
    "ax1.boxplot(all_lens_stat, labels=['min', 'max', 'mean', 'std'])\n",
    "\n",
    "ax2.set_title('Sentence len dist')\n",
    "ax2.hist(flat_lens, bins=10)\n",
    "\n",
    "print(stat_general)\n",
    "print(stat_per_post)\n"
   ]
  },
  {
   "cell_type": "code",
   "execution_count": 286,
   "metadata": {},
   "outputs": [],
   "source": [
    "import numpy as np\n",
    "import matplotlib.pyplot as plt\n",
    "\n",
    "def text_dataset_stat(sentences, remove_stop_words=False):\n",
    "    if remove_stop_words:\n",
    "        all_lens = np.array(list(map(lambda post: \n",
    "                        np.fromiter(\n",
    "                            (len([token.text for token in sent if not token.is_stop]) for sent in nlp(post).sents),\n",
    "                             dtype=np.int), sentences)))\n",
    "    else:\n",
    "        all_lens = np.array(list(map(lambda post: \n",
    "                        np.fromiter((len(sent) for sent in nlp(post['post']).sents), dtype=np.int), \n",
    "                                 sentences)))\n",
    "    flat_lens = np.hstack(all_lens)\n",
    "    stat_general = {\n",
    "        'min': flat_lens.min(),\n",
    "        'max': flat_lens.max(),\n",
    "        'mean': flat_lens.mean(),\n",
    "        'std': flat_lens.std(),\n",
    "    }\n",
    "    all_lens_stat = np.array(list(map(\n",
    "        lambda x: np.array((np.min(x), np.max(x), np.mean(x), np.std(x))), all_lens)))\n",
    "    stat_per_post = dict(zip(['min', 'max', 'mean', 'std'], all_lens_stat.mean(axis=0)))\n",
    "    \n",
    "    fig1, (ax1, ax2) = plt.subplots(1,2, figsize=(16,5))\n",
    "    \n",
    "    ax1.set_title('Per Post Stats Dist')\n",
    "    ax1.boxplot(all_lens_stat, labels=['min', 'max', 'mean', 'std'])\n",
    "    \n",
    "    ax2.set_title('Sentence len dist')\n",
    "    ax2.hist(flat_lens)\n",
    "    \n",
    "    print(stat_general)\n",
    "    print(stat_per_post)\n",
    "    \n",
    "    #return stat_general, stat_per_post"
   ]
  },
  {
   "cell_type": "code",
   "execution_count": null,
   "metadata": {},
   "outputs": [],
   "source": [
    "print(text_dataset_stat(posts[1:], True))"
   ]
  }
 ],
 "metadata": {
  "kernelspec": {
   "display_name": "Python 3",
   "language": "python",
   "name": "python3"
  },
  "language_info": {
   "codemirror_mode": {
    "name": "ipython",
    "version": 3
   },
   "file_extension": ".py",
   "mimetype": "text/x-python",
   "name": "python",
   "nbconvert_exporter": "python",
   "pygments_lexer": "ipython3",
   "version": "3.6.6"
  }
 },
 "nbformat": 4,
 "nbformat_minor": 2
}
