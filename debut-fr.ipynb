{
 "cells": [
  {
   "cell_type": "markdown",
   "metadata": {},
   "source": [
    "General idea:\n",
    "* clean text\n",
    "* get w2v features\n",
    "* get lda topic modeling features\n",
    "* cluster by combined features\n",
    "\n",
    "References:\n",
    "    * https://www.kaggle.com/vukglisovic/classification-combining-lda-and-word2vec# "
   ]
  },
  {
   "cell_type": "markdown",
   "metadata": {},
   "source": [
    "## Load"
   ]
  },
  {
   "cell_type": "code",
   "execution_count": 1,
   "metadata": {},
   "outputs": [],
   "source": [
    "import codecs\n",
    "\n",
    "with codecs.open(r'Forum utterances (FR).csv', encoding='latin1') as f:\n",
    "    data_strings =  f.readlines()"
   ]
  },
  {
   "cell_type": "code",
   "execution_count": 2,
   "metadata": {},
   "outputs": [],
   "source": [
    "import pandas as pd"
   ]
  },
  {
   "cell_type": "code",
   "execution_count": 3,
   "metadata": {},
   "outputs": [],
   "source": [
    "data = pd.read_csv('Forum utterances (FR).csv', delimiter='\\n', encoding='latin1', header=None)"
   ]
  },
  {
   "cell_type": "code",
   "execution_count": 4,
   "metadata": {},
   "outputs": [],
   "source": [
    "data.columns=['text']"
   ]
  },
  {
   "cell_type": "code",
   "execution_count": null,
   "metadata": {},
   "outputs": [],
   "source": []
  },
  {
   "cell_type": "code",
   "execution_count": 5,
   "metadata": {},
   "outputs": [],
   "source": [
    "import spacy"
   ]
  },
  {
   "cell_type": "code",
   "execution_count": 6,
   "metadata": {},
   "outputs": [],
   "source": [
    "nlp = spacy.blank('fr')"
   ]
  },
  {
   "cell_type": "code",
   "execution_count": 7,
   "metadata": {},
   "outputs": [],
   "source": [
    "nlp.add_pipe(nlp.create_pipe('sentencizer'))"
   ]
  },
  {
   "cell_type": "code",
   "execution_count": 10,
   "metadata": {},
   "outputs": [],
   "source": [
    "doc = nlp(data['text'][0])"
   ]
  },
  {
   "cell_type": "code",
   "execution_count": 11,
   "metadata": {},
   "outputs": [
    {
     "data": {
      "text/plain": [
       "[_Male, type occidental, obèse, pas de consommation d'alcool du tout, gros fumeur (invétéré !),\n",
       " .Je vais atteindre 60 ans dans deux mois.,\n",
       " Je pense reconnaître les symptômes d'un cancer pancréatique ou d'une pancréatite chronique, après un début de diabète apparu il y a quelques mois, avec lourdes douleurs lombaires dûes à une hernie discale (L5-R1?),\n",
       " vieille de deux ans, avec;;;;;;;]"
      ]
     },
     "execution_count": 11,
     "metadata": {},
     "output_type": "execute_result"
    }
   ],
   "source": [
    "[sent for sent in doc.sents]"
   ]
  },
  {
   "cell_type": "code",
   "execution_count": 100,
   "metadata": {},
   "outputs": [
    {
     "data": {
      "text/plain": [
       "0.0"
      ]
     },
     "execution_count": 100,
     "metadata": {},
     "output_type": "execute_result"
    }
   ],
   "source": [
    "nlp(data[0][0]).similarity(nlp(data[0][8]))"
   ]
  },
  {
   "cell_type": "code",
   "execution_count": 8,
   "metadata": {},
   "outputs": [],
   "source": [
    "sentences = list(nlp('\\n'.join(data[0].values)).sents)"
   ]
  },
  {
   "cell_type": "code",
   "execution_count": 9,
   "metadata": {},
   "outputs": [
    {
     "data": {
      "text/plain": [
       "3270"
      ]
     },
     "execution_count": 9,
     "metadata": {},
     "output_type": "execute_result"
    }
   ],
   "source": [
    "len(sentences)"
   ]
  },
  {
   "cell_type": "code",
   "execution_count": 93,
   "metadata": {},
   "outputs": [
    {
     "data": {
      "text/plain": [
       "['a', 'propos', 'du', 'site', 'internet', 'psychoactif']"
      ]
     },
     "execution_count": 93,
     "metadata": {},
     "output_type": "execute_result"
    }
   ],
   "source": [
    "sentences[10]"
   ]
  },
  {
   "cell_type": "code",
   "execution_count": 96,
   "metadata": {},
   "outputs": [],
   "source": [
    "data = pd.DataFrame(list(map(lambda x: ' '.join(x), sentences)), columns=['text'])"
   ]
  },
  {
   "cell_type": "code",
   "execution_count": 148,
   "metadata": {},
   "outputs": [
    {
     "data": {
      "text/plain": [
       "((3664,), (4684, 10))"
      ]
     },
     "execution_count": 148,
     "metadata": {},
     "output_type": "execute_result"
    }
   ],
   "source": [
    "data['text'].drop_duplicates().shape, data.shape"
   ]
  },
  {
   "cell_type": "markdown",
   "metadata": {},
   "source": [
    "## Preprocess texts"
   ]
  },
  {
   "cell_type": "markdown",
   "metadata": {},
   "source": [
    "### Tokenize the text"
   ]
  },
  {
   "cell_type": "code",
   "execution_count": 11,
   "metadata": {},
   "outputs": [],
   "source": [
    "import nltk, re"
   ]
  },
  {
   "cell_type": "code",
   "execution_count": 97,
   "metadata": {},
   "outputs": [],
   "source": [
    "def get_good_tokens(sentence):\n",
    "    replaced_punctation = list(map(lambda token: re.sub('[^0-9A-Za-z!?]+', '', token), sentence))\n",
    "    removed_punctation = list(filter(lambda token: token, replaced_punctation))\n",
    "    return removed_punctation"
   ]
  },
  {
   "cell_type": "code",
   "execution_count": 100,
   "metadata": {},
   "outputs": [],
   "source": [
    "def lda_get_good_tokens(df):\n",
    "    df['text'] = df.text.str.lower()\n",
    "    df['tokenized_text'] = list(map(nltk.word_tokenize, df.text))\n",
    "    df['tokenized_text'] = list(map(get_good_tokens, df.tokenized_text))\n",
    "\n",
    "lda_get_good_tokens(data)"
   ]
  },
  {
   "cell_type": "markdown",
   "metadata": {},
   "source": [
    "### Clean the text"
   ]
  },
  {
   "cell_type": "code",
   "execution_count": 108,
   "metadata": {},
   "outputs": [],
   "source": [
    "def remove_stopwords(df):\n",
    "    stopwords = nltk.corpus.stopwords.words('french')\n",
    "    df['stopwords_removed'] = list(map(lambda doc:\n",
    "                                       [word for word in doc if word not in stopwords],\n",
    "                                       df['tokenized_text']))\n",
    "remove_stopwords(data)"
   ]
  },
  {
   "cell_type": "code",
   "execution_count": 109,
   "metadata": {},
   "outputs": [],
   "source": [
    "def stem_words(df):\n",
    "    lemm = nltk.stem.WordNetLemmatizer()\n",
    "    df['lemmatized_text'] = list(map(lambda sentence:\n",
    "                                     list(map(lemm.lemmatize, sentence)),\n",
    "                                     df.stopwords_removed))\n",
    "\n",
    "    p_stemmer = nltk.stem.porter.PorterStemmer()\n",
    "    df['stemmed_text'] = list(map(lambda sentence:\n",
    "                                  list(map(p_stemmer.stem, sentence)),\n",
    "                                  df.lemmatized_text))\n",
    "\n",
    "stem_words(data)"
   ]
  },
  {
   "cell_type": "code",
   "execution_count": 110,
   "metadata": {},
   "outputs": [],
   "source": [
    "from gensim.corpora import Dictionary"
   ]
  },
  {
   "cell_type": "code",
   "execution_count": 111,
   "metadata": {},
   "outputs": [
    {
     "name": "stderr",
     "output_type": "stream",
     "text": [
      "2018-11-21 18:31:49,380 : INFO : adding document #0 to Dictionary(0 unique tokens: [])\n",
      "2018-11-21 18:31:49,466 : INFO : built Dictionary(7241 unique tokens: ['!', 'consomm', 'dalcool', 'fumeur', 'gro']...) from 4684 documents (total 53256 corpus positions)\n"
     ]
    },
    {
     "name": "stdout",
     "output_type": "stream",
     "text": [
      "Found 7241 words.\n"
     ]
    }
   ],
   "source": [
    "dictionary = Dictionary(documents=data.stemmed_text.values)\n",
    "\n",
    "print(\"Found {} words.\".format(len(dictionary.values())))"
   ]
  },
  {
   "cell_type": "code",
   "execution_count": 113,
   "metadata": {},
   "outputs": [],
   "source": [
    "def document_to_bow(df):\n",
    "    df['bow'] = list(map(lambda doc: dictionary.doc2bow(doc), df.stemmed_text))\n",
    "    \n",
    "document_to_bow(data)"
   ]
  },
  {
   "cell_type": "code",
   "execution_count": 114,
   "metadata": {},
   "outputs": [],
   "source": [
    "def lda_preprocessing(df):\n",
    "    lda_get_good_tokens(df)\n",
    "    remove_stopwords(df)\n",
    "    stem_words(df)\n",
    "    document_to_bow(df)"
   ]
  },
  {
   "cell_type": "markdown",
   "metadata": {},
   "source": [
    "### Let's plot"
   ]
  },
  {
   "cell_type": "code",
   "execution_count": 101,
   "metadata": {},
   "outputs": [],
   "source": [
    "from collections import Counter"
   ]
  },
  {
   "cell_type": "code",
   "execution_count": 102,
   "metadata": {},
   "outputs": [],
   "source": [
    "import numpy as np"
   ]
  },
  {
   "cell_type": "code",
   "execution_count": 105,
   "metadata": {},
   "outputs": [],
   "source": [
    "import matplotlib.pyplot as plt\n",
    "import seaborn as sns"
   ]
  },
  {
   "cell_type": "code",
   "execution_count": null,
   "metadata": {},
   "outputs": [],
   "source": [
    "def word_frequency_barplot(df, nr_top_words=50):\n",
    "    fig, ax = plt.subplots(1,1,figsize=(20,5))\n",
    "    sns.barplot(list(range(nr_top_words)), df['count'].values[:nr_top_words], palette='hls', ax=ax)\n",
    "    ax.set_xticks(list(range(nr_top_words)))\n",
    "    ax.set_xticklabels(df.index[:nr_top_words], fontsize=14, rotation=90)\n",
    "    return ax"
   ]
  },
  {
   "cell_type": "code",
   "execution_count": 115,
   "metadata": {},
   "outputs": [],
   "source": [
    "cleansed_words_df = pd.DataFrame.from_dict(dictionary.token2id, orient='index')\n",
    "cleansed_words_df.rename(columns={0: 'id'}, inplace=True)\n",
    "\n",
    "cleansed_words_df['count'] = list(map(lambda id_: dictionary.dfs.get(id_), cleansed_words_df.id))\n",
    "del cleansed_words_df['id']"
   ]
  },
  {
   "cell_type": "code",
   "execution_count": 116,
   "metadata": {},
   "outputs": [],
   "source": [
    "cleansed_words_df.sort_values('count', ascending=False, inplace=True)"
   ]
  },
  {
   "cell_type": "code",
   "execution_count": 117,
   "metadata": {},
   "outputs": [
    {
     "data": {
      "image/png": "[encoded data removed]",
      "text/plain": [
       "<Figure size 1440x360 with 1 Axes>"
      ]
     },
     "metadata": {
      "needs_background": "light"
     },
     "output_type": "display_data"
    }
   ],
   "source": [
    "ax = word_frequency_barplot(cleansed_words_df)\n",
    "ax.set_title(\"Document Frequencies (Number of documents a word appears in)\", fontsize=16);"
   ]
  },
  {
   "cell_type": "markdown",
   "metadata": {},
   "source": [
    "## W2V features"
   ]
  },
  {
   "cell_type": "code",
   "execution_count": 118,
   "metadata": {},
   "outputs": [
    {
     "name": "stdout",
     "output_type": "stream",
     "text": [
      "Number of sentences: 4684.\n",
      "Number of texts: 4684.\n"
     ]
    }
   ],
   "source": [
    "sentences = []\n",
    "for sentence_group in data.tokenized_sentences:\n",
    "    sentences.extend(sentence_group)\n",
    "\n",
    "print(\"Number of sentences: {}.\".format(len(sentences)))\n",
    "print(\"Number of texts: {}.\".format(len(data)))"
   ]
  },
  {
   "cell_type": "code",
   "execution_count": 119,
   "metadata": {},
   "outputs": [],
   "source": [
    "from gensim.models import Word2Vec"
   ]
  },
  {
   "cell_type": "code",
   "execution_count": 120,
   "metadata": {
    "collapsed": true
   },
   "outputs": [
    {
     "name": "stderr",
     "output_type": "stream",
     "text": [
      "2018-11-21 18:31:58,350 : INFO : collecting all words and their counts\n",
      "2018-11-21 18:31:58,351 : INFO : PROGRESS: at sentence #0, processed 0 words, keeping 0 word types\n",
      "2018-11-21 18:31:58,369 : INFO : collected 8888 word types from a corpus of 84511 raw words and 4684 sentences\n",
      "2018-11-21 18:31:58,369 : INFO : Loading a fresh vocabulary\n",
      "2018-11-21 18:31:58,379 : INFO : effective_min_count=3 retains 3018 unique words (33% of original 8888, drops 5870)\n",
      "2018-11-21 18:31:58,379 : INFO : effective_min_count=3 leaves 77256 word corpus (91% of original 84511, drops 7255)\n",
      "2018-11-21 18:31:58,390 : INFO : deleting the raw counts dictionary of 8888 items\n",
      "2018-11-21 18:31:58,391 : INFO : sample=0.001 downsamples 56 most-common words\n",
      "2018-11-21 18:31:58,393 : INFO : downsampling leaves estimated 55166 word corpus (71.4% of prior 77256)\n",
      "2018-11-21 18:31:58,405 : INFO : estimated required memory for 3018 words and 200 dimensions: 6337800 bytes\n",
      "2018-11-21 18:31:58,406 : INFO : resetting layer weights\n",
      "2018-11-21 18:31:58,458 : INFO : training model with 4 workers on 3018 vocabulary and 200 features, using sg=1 hs=0 sample=0.001 negative=5 window=6\n",
      "2018-11-21 18:31:58,622 : INFO : worker thread finished; awaiting finish of 3 more threads\n",
      "2018-11-21 18:31:58,630 : INFO : worker thread finished; awaiting finish of 2 more threads\n",
      "2018-11-21 18:31:58,641 : INFO : worker thread finished; awaiting finish of 1 more threads\n",
      "2018-11-21 18:31:58,645 : INFO : worker thread finished; awaiting finish of 0 more threads\n",
      "2018-11-21 18:31:58,646 : INFO : EPOCH - 1 : training on 84511 raw words (55028 effective words) took 0.2s, 310383 effective words/s\n",
      "2018-11-21 18:31:58,821 : INFO : worker thread finished; awaiting finish of 3 more threads\n",
      "2018-11-21 18:31:58,829 : INFO : worker thread finished; awaiting finish of 2 more threads\n",
      "2018-11-21 18:31:58,833 : INFO : worker thread finished; awaiting finish of 1 more threads\n",
      "2018-11-21 18:31:58,845 : INFO : worker thread finished; awaiting finish of 0 more threads\n",
      "2018-11-21 18:31:58,846 : INFO : EPOCH - 2 : training on 84511 raw words (55184 effective words) took 0.2s, 287334 effective words/s\n",
      "2018-11-21 18:31:59,013 : INFO : worker thread finished; awaiting finish of 3 more threads\n",
      "2018-11-21 18:31:59,034 : INFO : worker thread finished; awaiting finish of 2 more threads\n",
      "2018-11-21 18:31:59,041 : INFO : worker thread finished; awaiting finish of 1 more threads\n",
      "2018-11-21 18:31:59,052 : INFO : worker thread finished; awaiting finish of 0 more threads\n",
      "2018-11-21 18:31:59,052 : INFO : EPOCH - 3 : training on 84511 raw words (55264 effective words) took 0.2s, 282134 effective words/s\n",
      "2018-11-21 18:31:59,212 : INFO : worker thread finished; awaiting finish of 3 more threads\n",
      "2018-11-21 18:31:59,234 : INFO : worker thread finished; awaiting finish of 2 more threads\n",
      "2018-11-21 18:31:59,242 : INFO : worker thread finished; awaiting finish of 1 more threads\n",
      "2018-11-21 18:31:59,260 : INFO : worker thread finished; awaiting finish of 0 more threads\n",
      "2018-11-21 18:31:59,262 : INFO : EPOCH - 4 : training on 84511 raw words (55051 effective words) took 0.2s, 276312 effective words/s\n",
      "2018-11-21 18:31:59,429 : INFO : worker thread finished; awaiting finish of 3 more threads\n",
      "2018-11-21 18:31:59,442 : INFO : worker thread finished; awaiting finish of 2 more threads\n",
      "2018-11-21 18:31:59,447 : INFO : worker thread finished; awaiting finish of 1 more threads\n",
      "2018-11-21 18:31:59,461 : INFO : worker thread finished; awaiting finish of 0 more threads\n",
      "2018-11-21 18:31:59,461 : INFO : EPOCH - 5 : training on 84511 raw words (55017 effective words) took 0.2s, 287122 effective words/s\n",
      "2018-11-21 18:31:59,640 : INFO : worker thread finished; awaiting finish of 3 more threads\n",
      "2018-11-21 18:31:59,647 : INFO : worker thread finished; awaiting finish of 2 more threads\n",
      "2018-11-21 18:31:59,666 : INFO : worker thread finished; awaiting finish of 1 more threads\n",
      "2018-11-21 18:31:59,668 : INFO : worker thread finished; awaiting finish of 0 more threads\n",
      "2018-11-21 18:31:59,668 : INFO : EPOCH - 6 : training on 84511 raw words (55158 effective words) took 0.2s, 275901 effective words/s\n",
      "2018-11-21 18:31:59,669 : INFO : training on a 507066 raw words (330702 effective words) took 1.2s, 273202 effective words/s\n"
     ]
    }
   ],
   "source": [
    "# Set values for various parameters\n",
    "num_features = 200    # Word vector dimensionality\n",
    "min_word_count = 3    # Minimum word count\n",
    "num_workers = 4       # Number of threads to run in parallel\n",
    "context = 6           # Context window size\n",
    "downsampling = 1e-3   # Downsample setting for frequent words\n",
    "\n",
    "# Initialize and train the model\n",
    "W2Vmodel = Word2Vec(sentences=sentences,\n",
    "                    sg=1,\n",
    "                    hs=0,\n",
    "                    workers=num_workers,\n",
    "                    size=num_features,\n",
    "                    min_count=min_word_count,\n",
    "                    window=context,\n",
    "                    sample=downsampling,\n",
    "                    negative=5,\n",
    "                    iter=6)"
   ]
  },
  {
   "cell_type": "code",
   "execution_count": 121,
   "metadata": {},
   "outputs": [
    {
     "name": "stderr",
     "output_type": "stream",
     "text": [
      "/home/alice/Mines/paradec/paradec/lib/python3.6/site-packages/ipykernel_launcher.py:16: DeprecationWarning: Call to deprecated `__getitem__` (Method will be removed in 4.0.0, use self.wv.__getitem__() instead).\n",
      "  app.launch_new_instance()\n"
     ]
    }
   ],
   "source": [
    "def get_w2v_features(w2v_model, sentence_group):\n",
    "    \"\"\" Transform a sentence_group (containing multiple lists\n",
    "    of words) into a feature vector. It averages out all the\n",
    "    word vectors of the sentence_group.\n",
    "    \"\"\"\n",
    "    words = np.concatenate(sentence_group)  # words in text\n",
    "    index2word_set = set(w2v_model.wv.vocab.keys())  # words known to model\n",
    "    \n",
    "    featureVec = np.zeros(w2v_model.vector_size, dtype=\"float32\")\n",
    "    \n",
    "    # Initialize a counter for number of words in a review\n",
    "    nwords = 0\n",
    "    # Loop over each word in the comment and, if it is in the model's vocabulary, add its feature vector to the total\n",
    "    for word in words:\n",
    "        if word in index2word_set: \n",
    "            featureVec = np.add(featureVec, w2v_model[word])\n",
    "            nwords += 1.\n",
    "\n",
    "    # Divide the result by the number of words to get the average\n",
    "    if nwords > 0:\n",
    "        featureVec = np.divide(featureVec, nwords)\n",
    "    return featureVec\n",
    "\n",
    "data['w2v_features'] = list(map(lambda sen_group:\n",
    "                                      get_w2v_features(W2Vmodel, sen_group),\n",
    "                                      data.tokenized_sentences))"
   ]
  },
  {
   "cell_type": "code",
   "execution_count": 122,
   "metadata": {},
   "outputs": [
    {
     "name": "stderr",
     "output_type": "stream",
     "text": [
      "/home/alice/Mines/paradec/paradec/lib/python3.6/site-packages/gensim/matutils.py:737: FutureWarning: Conversion of the second argument of issubdtype from `int` to `np.signedinteger` is deprecated. In future, it will be treated as `np.int64 == np.dtype(int).type`.\n",
      "  if np.issubdtype(vec.dtype, np.int):\n"
     ]
    },
    {
     "data": {
      "text/plain": [
       "0.53435516"
      ]
     },
     "execution_count": 122,
     "metadata": {},
     "output_type": "execute_result"
    }
   ],
   "source": [
    "W2Vmodel.wv.similarity(w1='peux', w2='cancer')"
   ]
  },
  {
   "cell_type": "markdown",
   "metadata": {},
   "source": [
    "## LDA features"
   ]
  },
  {
   "cell_type": "code",
   "execution_count": 123,
   "metadata": {},
   "outputs": [],
   "source": [
    "from gensim.models import LdaModel, LdaMulticore"
   ]
  },
  {
   "cell_type": "code",
   "execution_count": 124,
   "metadata": {},
   "outputs": [],
   "source": [
    "from gensim.test.utils import common_corpus"
   ]
  },
  {
   "cell_type": "code",
   "execution_count": 125,
   "metadata": {},
   "outputs": [],
   "source": [
    "corpus = data.bow"
   ]
  },
  {
   "cell_type": "code",
   "execution_count": 126,
   "metadata": {
    "collapsed": true
   },
   "outputs": [
    {
     "name": "stderr",
     "output_type": "stream",
     "text": [
      "2018-11-21 18:32:09,468 : INFO : using asymmetric alpha [0.031139033, 0.028788464, 0.02676786, 0.025012296, 0.023472836, 0.02211189, 0.020900112, 0.019814245, 0.018835641, 0.017949153, 0.017142355, 0.01640497, 0.015728405, 0.015105434, 0.014529934, 0.013996676, 0.013501173, 0.0130395545, 0.012608458, 0.012204954, 0.011826476, 0.011470766, 0.011135828, 0.010819895, 0.010521393, 0.010238921, 0.009971219, 0.009717159, 0.009475723, 0.0092459945, 0.009027141, 0.008818409, 0.008619112, 0.008428624, 0.008246372, 0.008071837, 0.007904536, 0.0077440296, 0.0075899116, 0.0074418085, 0.0072993743, 0.0071622906, 0.0070302603, 0.00690301, 0.0067802845, 0.0066618463, 0.006547475, 0.006436964, 0.006330122, 0.0062267683, 0.0061267363, 0.0060298666, 0.005936013, 0.0058450364, 0.0057568057, 0.0056711994, 0.0055881017, 0.005507404, 0.005429004, 0.005352805, 0.005278715, 0.0052066483, 0.0051365225, 0.0050682607, 0.0050017894, 0.0049370397, 0.0048739444, 0.0048124413, 0.004752471, 0.0046939775, 0.004636906, 0.0045812055, 0.004526828, 0.004473726, 0.004421855, 0.0043711727, 0.00432164, 0.0042732167, 0.004225867, 0.0041795545, 0.0041342466, 0.0040899105, 0.004046515, 0.0040040305, 0.0039624292, 0.0039216834, 0.003881767, 0.003842655, 0.003804323, 0.0037667488, 0.0037299092, 0.0036937834, 0.0036583503, 0.0036235908, 0.0035894855, 0.0035560164, 0.0035231656, 0.0034909162, 0.0034592517, 0.0034281567, 0.0033976156, 0.0033676142, 0.0033381376, 0.0033091726, 0.003280706, 0.003252725, 0.003225217, 0.0031981706, 0.0031715739, 0.0031454163, 0.0031196864, 0.003094374, 0.003069469, 0.003044962, 0.0030208428, 0.002997103, 0.0029737332, 0.002950725, 0.0029280703, 0.0029057607, 0.0028837887, 0.0028621464, 0.0028408263, 0.0028198217, 0.0027991254, 0.0027787306, 0.002758631, 0.00273882, 0.0027192915, 0.0027000397, 0.0026810584, 0.002662342, 0.002643885, 0.0026256826, 0.0026077288, 0.002590019, 0.002572548, 0.0025553112, 0.0025383038, 0.0025215214, 0.0025049595, 0.0024886136, 0.0024724796, 0.0024565537, 0.0024408316, 0.0024253093, 0.0024099832, 0.0023948497, 0.002379905, 0.0023651456]\n",
      "2018-11-21 18:32:09,470 : INFO : using symmetric eta at 0.006666666666666667\n",
      "2018-11-21 18:32:09,473 : INFO : using serial LDA version on this node\n",
      "2018-11-21 18:32:09,637 : INFO : running online LDA training, 150 topics, 7 passes over the supplied corpus of 4684 documents, updating every 16000 documents, evaluating every ~4684 documents, iterating 50x with a convergence threshold of 0.001000\n",
      "2018-11-21 18:32:09,638 : WARNING : too few updates, training might not converge; consider increasing the number of passes or iterations to improve accuracy\n",
      "2018-11-21 18:32:09,639 : INFO : training LDA model using 4 processes\n",
      "2018-11-21 18:32:09,699 : INFO : PROGRESS: pass 0, dispatched chunk #0 = documents up to #4000/4684, outstanding queue size 1\n",
      "2018-11-21 18:32:09,734 : INFO : PROGRESS: pass 0, dispatched chunk #1 = documents up to #4684/4684, outstanding queue size 2\n",
      "2018-11-21 18:32:12,557 : INFO : topic #147 (0.002): 0.023*\"bonjour\" + 0.020*\"ca\" + 0.020*\"si\" + 0.020*\"repondr\" + 0.020*\"ceux\" + 0.014*\"an\" + 0.011*\"tou\" + 0.010*\"solut\" + 0.010*\"bientt\" + 0.010*\"long\"\n",
      "2018-11-21 18:32:12,558 : INFO : topic #149 (0.002): 0.028*\"si\" + 0.023*\"a\" + 0.013*\"fait\" + 0.013*\"jai\" + 0.012*\"mavait\" + 0.012*\"o\" + 0.012*\"suivi\" + 0.012*\"discuss\" + 0.012*\"encor\" + 0.010*\"quand\"\n",
      "2018-11-21 18:32:12,561 : INFO : topic #2 (0.027): 0.028*\"a\" + 0.019*\"bonjour\" + 0.014*\"?\" + 0.013*\"depui\" + 0.013*\"le\" + 0.012*\"an\" + 0.012*\"si\" + 0.011*\"jai\" + 0.010*\"moi\" + 0.007*\"2\"\n",
      "2018-11-21 18:32:12,562 : INFO : topic #1 (0.029): 0.029*\"a\" + 0.025*\"jai\" + 0.017*\"bonjour\" + 0.015*\"?\" + 0.013*\"an\" + 0.013*\"depui\" + 0.011*\"le\" + 0.006*\"fait\" + 0.006*\"avoir\" + 0.006*\"tout\"\n",
      "2018-11-21 18:32:12,567 : INFO : topic #0 (0.031): 0.032*\"jai\" + 0.024*\"bonjour\" + 0.021*\"a\" + 0.016*\"?\" + 0.012*\"fait\" + 0.011*\"merci\" + 0.011*\"an\" + 0.011*\"le\" + 0.010*\"tout\" + 0.009*\"plu\"\n",
      "2018-11-21 18:32:12,570 : INFO : topic diff=141.329514, rho=1.000000\n",
      "2018-11-21 18:32:12,996 : INFO : -9.051 per-word bound, 530.3 perplexity estimate based on a held-out corpus of 684 documents with 8030 words\n",
      "2018-11-21 18:32:12,998 : INFO : PROGRESS: pass 1, dispatched chunk #0 = documents up to #4000/4684, outstanding queue size 1\n",
      "2018-11-21 18:32:13,015 : INFO : PROGRESS: pass 1, dispatched chunk #1 = documents up to #4684/4684, outstanding queue size 2\n",
      "/home/alice/Mines/paradec/paradec/lib/python3.6/site-packages/gensim/models/ldamodel.py:1023: RuntimeWarning: divide by zero encountered in log\n",
      "  diff = np.log(self.expElogbeta)\n",
      "2018-11-21 18:32:14,655 : INFO : topic #148 (0.002): 0.067*\"simpl\" + 0.067*\"rgle\" + 0.067*\"suivi\" + 0.067*\"quelqu\" + 0.067*\"tout\" + 0.067*\"respect\" + 0.067*\"veuillez\" + 0.067*\"forum\" + 0.067*\"bon\" + 0.067*\"discuss\"\n",
      "2018-11-21 18:32:14,656 : INFO : topic #149 (0.002): 0.028*\"si\" + 0.028*\"a\" + 0.017*\"jai\" + 0.015*\"o\" + 0.014*\"mavait\" + 0.013*\"tl\" + 0.012*\"fait\" + 0.011*\"suivi\" + 0.011*\"tou\" + 0.011*\"quand\"\n",
      "2018-11-21 18:32:14,657 : INFO : topic #2 (0.027): 0.031*\"a\" + 0.020*\"bonjour\" + 0.013*\"le\" + 0.013*\"depui\" + 0.012*\"?\" + 0.011*\"jai\" + 0.011*\"an\" + 0.010*\"si\" + 0.010*\"moi\" + 0.008*\"2\"\n",
      "2018-11-21 18:32:14,659 : INFO : topic #1 (0.029): 0.029*\"a\" + 0.025*\"jai\" + 0.017*\"bonjour\" + 0.014*\"?\" + 0.013*\"depui\" + 0.013*\"an\" + 0.011*\"le\" + 0.006*\"fait\" + 0.006*\"avoir\" + 0.005*\"tout\"\n",
      "2018-11-21 18:32:14,661 : INFO : topic #0 (0.031): 0.033*\"jai\" + 0.025*\"bonjour\" + 0.022*\"a\" + 0.017*\"?\" + 0.012*\"merci\" + 0.011*\"le\" + 0.010*\"fait\" + 0.010*\"an\" + 0.010*\"tout\" + 0.008*\"plu\"\n",
      "2018-11-21 18:32:14,664 : INFO : topic diff=inf, rho=0.561567\n",
      "2018-11-21 18:32:15,105 : INFO : -8.457 per-word bound, 351.4 perplexity estimate based on a held-out corpus of 684 documents with 8030 words\n",
      "2018-11-21 18:32:15,106 : INFO : PROGRESS: pass 2, dispatched chunk #0 = documents up to #4000/4684, outstanding queue size 1\n",
      "2018-11-21 18:32:15,128 : INFO : PROGRESS: pass 2, dispatched chunk #1 = documents up to #4684/4684, outstanding queue size 2\n",
      "2018-11-21 18:32:16,594 : INFO : topic #149 (0.002): 0.031*\"a\" + 0.027*\"si\" + 0.020*\"jai\" + 0.017*\"o\" + 0.016*\"cri\" + 0.015*\"mavait\" + 0.014*\"tl\" + 0.012*\"tou\" + 0.012*\"fait\" + 0.011*\"dit\"\n",
      "2018-11-21 18:32:16,595 : INFO : topic #147 (0.002): 0.089*\"merci\" + 0.082*\"davanc\" + 0.050*\"ceux\" + 0.048*\"ca\" + 0.027*\"solut\" + 0.025*\"remerci\" + 0.022*\"19\" + 0.019*\"bientt\" + 0.019*\"vai\" + 0.018*\"bonjour\"\n",
      "2018-11-21 18:32:16,597 : INFO : topic #2 (0.027): 0.033*\"a\" + 0.021*\"bonjour\" + 0.013*\"le\" + 0.012*\"depui\" + 0.011*\"an\" + 0.011*\"jai\" + 0.011*\"?\" + 0.010*\"moi\" + 0.009*\"si\" + 0.008*\"tou\"\n",
      "2018-11-21 18:32:16,598 : INFO : topic #1 (0.029): 0.030*\"a\" + 0.024*\"jai\" + 0.016*\"bonjour\" + 0.013*\"depui\" + 0.013*\"?\" + 0.013*\"an\" + 0.011*\"le\" + 0.006*\"fait\" + 0.005*\"avoir\" + 0.005*\"apr\"\n",
      "2018-11-21 18:32:16,599 : INFO : topic #0 (0.031): 0.033*\"jai\" + 0.024*\"bonjour\" + 0.023*\"a\" + 0.017*\"?\" + 0.012*\"le\" + 0.010*\"merci\" + 0.010*\"fait\" + 0.009*\"an\" + 0.009*\"tout\" + 0.008*\"plu\"\n",
      "2018-11-21 18:32:16,603 : INFO : topic diff=inf, rho=0.489643\n",
      "2018-11-21 18:32:16,993 : INFO : -8.276 per-word bound, 309.9 perplexity estimate based on a held-out corpus of 684 documents with 8030 words\n",
      "2018-11-21 18:32:16,994 : INFO : PROGRESS: pass 3, dispatched chunk #0 = documents up to #4000/4684, outstanding queue size 1\n",
      "2018-11-21 18:32:17,016 : INFO : PROGRESS: pass 3, dispatched chunk #1 = documents up to #4684/4684, outstanding queue size 2\n",
      "2018-11-21 18:32:18,485 : INFO : topic #149 (0.002): 0.032*\"a\" + 0.026*\"si\" + 0.021*\"jai\" + 0.021*\"o\" + 0.020*\"cri\" + 0.015*\"mavait\" + 0.015*\"tl\" + 0.013*\"fait\" + 0.012*\"tou\" + 0.012*\"dit\"\n",
      "2018-11-21 18:32:18,486 : INFO : topic #145 (0.002): 0.033*\"a\" + 0.031*\"seulement\" + 0.021*\"bref\" + 0.016*\"ide\" + 0.016*\"salut\" + 0.016*\"le\" + 0.016*\"?\" + 0.015*\"ami\" + 0.014*\"3\" + 0.014*\"tou\"\n",
      "2018-11-21 18:32:18,487 : INFO : topic #2 (0.027): 0.034*\"a\" + 0.020*\"bonjour\" + 0.013*\"le\" + 0.012*\"depui\" + 0.011*\"an\" + 0.011*\"jai\" + 0.009*\"moi\" + 0.009*\"?\" + 0.008*\"tou\" + 0.008*\"si\"\n",
      "2018-11-21 18:32:18,488 : INFO : topic #1 (0.029): 0.032*\"a\" + 0.024*\"jai\" + 0.016*\"bonjour\" + 0.013*\"depui\" + 0.013*\"an\" + 0.012*\"?\" + 0.011*\"le\" + 0.006*\"fait\" + 0.005*\"apr\" + 0.005*\"commenc\"\n",
      "2018-11-21 18:32:18,490 : INFO : topic #0 (0.031): 0.034*\"jai\" + 0.025*\"a\" + 0.023*\"bonjour\" + 0.018*\"?\" + 0.012*\"le\" + 0.009*\"fait\" + 0.009*\"an\" + 0.008*\"tout\" + 0.008*\"plu\" + 0.008*\"merci\"\n"
     ]
    },
    {
     "name": "stderr",
     "output_type": "stream",
     "text": [
      "2018-11-21 18:32:18,493 : INFO : topic diff=inf, rho=0.439757\n",
      "2018-11-21 18:32:18,879 : INFO : -8.154 per-word bound, 284.8 perplexity estimate based on a held-out corpus of 684 documents with 8030 words\n",
      "2018-11-21 18:32:18,881 : INFO : PROGRESS: pass 4, dispatched chunk #0 = documents up to #4000/4684, outstanding queue size 1\n",
      "2018-11-21 18:32:18,903 : INFO : PROGRESS: pass 4, dispatched chunk #1 = documents up to #4684/4684, outstanding queue size 2\n",
      "2018-11-21 18:32:20,322 : INFO : topic #149 (0.002): 0.033*\"a\" + 0.024*\"si\" + 0.022*\"o\" + 0.022*\"cri\" + 0.021*\"jai\" + 0.015*\"mavait\" + 0.015*\"tl\" + 0.013*\"fait\" + 0.012*\"lheur\" + 0.012*\"tou\"\n",
      "2018-11-21 18:32:20,323 : INFO : topic #146 (0.002): 0.052*\"tout\" + 0.048*\"petit\" + 0.032*\"bouton\" + 0.030*\"semain\" + 0.028*\"a\" + 0.022*\"dessu\" + 0.019*\"fait\" + 0.013*\"mal\" + 0.013*\"afin\" + 0.013*\"tsh\"\n",
      "2018-11-21 18:32:20,325 : INFO : topic #2 (0.027): 0.035*\"a\" + 0.020*\"bonjour\" + 0.014*\"le\" + 0.012*\"depui\" + 0.011*\"an\" + 0.011*\"jai\" + 0.009*\"tou\" + 0.009*\"moi\" + 0.008*\"3\" + 0.008*\"2\"\n",
      "2018-11-21 18:32:20,326 : INFO : topic #1 (0.029): 0.033*\"a\" + 0.024*\"jai\" + 0.015*\"bonjour\" + 0.013*\"depui\" + 0.013*\"an\" + 0.011*\"le\" + 0.011*\"?\" + 0.006*\"fait\" + 0.005*\"environ\" + 0.005*\"apr\"\n",
      "2018-11-21 18:32:20,328 : INFO : topic #0 (0.031): 0.035*\"jai\" + 0.026*\"a\" + 0.021*\"bonjour\" + 0.019*\"?\" + 0.013*\"le\" + 0.009*\"fait\" + 0.008*\"plu\" + 0.008*\"an\" + 0.008*\"tout\" + 0.008*\"comm\"\n",
      "2018-11-21 18:32:20,330 : INFO : topic diff=inf, rho=0.402552\n",
      "2018-11-21 18:32:20,770 : INFO : -8.055 per-word bound, 266.0 perplexity estimate based on a held-out corpus of 684 documents with 8030 words\n",
      "2018-11-21 18:32:20,772 : INFO : PROGRESS: pass 5, dispatched chunk #0 = documents up to #4000/4684, outstanding queue size 1\n",
      "2018-11-21 18:32:20,795 : INFO : PROGRESS: pass 5, dispatched chunk #1 = documents up to #4684/4684, outstanding queue size 2\n",
      "2018-11-21 18:32:22,455 : INFO : topic #149 (0.002): 0.034*\"a\" + 0.025*\"o\" + 0.023*\"cri\" + 0.022*\"si\" + 0.021*\"jai\" + 0.015*\"mavait\" + 0.015*\"tl\" + 0.014*\"fait\" + 0.013*\"lheur\" + 0.012*\"met\"\n",
      "2018-11-21 18:32:22,456 : INFO : topic #146 (0.002): 0.053*\"petit\" + 0.052*\"tout\" + 0.034*\"bouton\" + 0.031*\"semain\" + 0.029*\"a\" + 0.024*\"dessu\" + 0.021*\"fait\" + 0.015*\"tsh\" + 0.014*\"mal\" + 0.013*\"afin\"\n",
      "2018-11-21 18:32:22,457 : INFO : topic #2 (0.027): 0.035*\"a\" + 0.019*\"bonjour\" + 0.014*\"le\" + 0.012*\"depui\" + 0.011*\"an\" + 0.011*\"jai\" + 0.009*\"tou\" + 0.008*\"moi\" + 0.008*\"3\" + 0.008*\"2\"\n",
      "2018-11-21 18:32:22,458 : INFO : topic #1 (0.029): 0.034*\"a\" + 0.024*\"jai\" + 0.015*\"bonjour\" + 0.013*\"depui\" + 0.013*\"an\" + 0.012*\"le\" + 0.011*\"?\" + 0.006*\"environ\" + 0.006*\"fait\" + 0.005*\"apr\"\n",
      "2018-11-21 18:32:22,459 : INFO : topic #0 (0.031): 0.035*\"jai\" + 0.027*\"a\" + 0.019*\"?\" + 0.019*\"bonjour\" + 0.013*\"le\" + 0.009*\"fait\" + 0.008*\"plu\" + 0.008*\"comm\" + 0.008*\"an\" + 0.008*\"tout\"\n",
      "2018-11-21 18:32:22,462 : INFO : topic diff=inf, rho=0.373431\n",
      "2018-11-21 18:32:22,840 : INFO : -7.972 per-word bound, 251.1 perplexity estimate based on a held-out corpus of 684 documents with 8030 words\n",
      "2018-11-21 18:32:22,842 : INFO : PROGRESS: pass 6, dispatched chunk #0 = documents up to #4000/4684, outstanding queue size 1\n",
      "2018-11-21 18:32:22,862 : INFO : PROGRESS: pass 6, dispatched chunk #1 = documents up to #4684/4684, outstanding queue size 2\n",
      "2018-11-21 18:32:24,384 : INFO : topic #149 (0.002): 0.034*\"a\" + 0.028*\"o\" + 0.024*\"cri\" + 0.022*\"jai\" + 0.021*\"si\" + 0.015*\"mavait\" + 0.015*\"tl\" + 0.014*\"fait\" + 0.014*\"lheur\" + 0.013*\"met\"\n",
      "2018-11-21 18:32:24,385 : INFO : topic #148 (0.002): 0.097*\"forum\" + 0.083*\"bonn\" + 0.083*\"bon\" + 0.077*\"suivi\" + 0.076*\"quelqu\" + 0.073*\"tout\" + 0.072*\"rgle\" + 0.071*\"utilis\" + 0.071*\"discuss\" + 0.071*\"simpl\"\n",
      "2018-11-21 18:32:24,386 : INFO : topic #2 (0.027): 0.036*\"a\" + 0.019*\"bonjour\" + 0.014*\"le\" + 0.013*\"depui\" + 0.011*\"an\" + 0.011*\"jai\" + 0.009*\"tou\" + 0.008*\"3\" + 0.008*\"2\" + 0.008*\"moi\"\n",
      "2018-11-21 18:32:24,387 : INFO : topic #1 (0.029): 0.034*\"a\" + 0.024*\"jai\" + 0.014*\"bonjour\" + 0.013*\"depui\" + 0.012*\"an\" + 0.012*\"le\" + 0.010*\"?\" + 0.006*\"environ\" + 0.006*\"fait\" + 0.005*\"cett\"\n",
      "2018-11-21 18:32:24,388 : INFO : topic #0 (0.031): 0.036*\"jai\" + 0.027*\"a\" + 0.020*\"?\" + 0.018*\"bonjour\" + 0.013*\"le\" + 0.009*\"comm\" + 0.008*\"plu\" + 0.008*\"fait\" + 0.008*\"an\" + 0.008*\"tout\"\n",
      "2018-11-21 18:32:24,391 : INFO : topic diff=inf, rho=0.349834\n",
      "2018-11-21 18:32:24,799 : INFO : -7.897 per-word bound, 238.4 perplexity estimate based on a held-out corpus of 684 documents with 8030 words\n"
     ]
    }
   ],
   "source": [
    "num_topics = 150\n",
    "#A multicore approach to decrease training time\n",
    "LDAmodel = LdaMulticore(corpus=corpus,\n",
    "                        id2word=dictionary,\n",
    "                        num_topics=num_topics,\n",
    "                        workers=4,\n",
    "                        chunksize=4000,\n",
    "                        passes=7,\n",
    "                        alpha='asymmetric')"
   ]
  },
  {
   "cell_type": "code",
   "execution_count": 127,
   "metadata": {},
   "outputs": [],
   "source": [
    "def document_to_lda_features(lda_model, document):\n",
    "    \"\"\" Transforms a bag of words document to features.\n",
    "    It returns the proportion of how much each topic was\n",
    "    present in the document.\n",
    "    \"\"\"\n",
    "    topic_importances = LDAmodel.get_document_topics(document, minimum_probability=0)\n",
    "    topic_importances = np.array(topic_importances)\n",
    "    return topic_importances[:,1]\n",
    "\n",
    "data['lda_features'] = list(map(lambda doc:\n",
    "                                      document_to_lda_features(LDAmodel, doc),\n",
    "                                      data.bow))"
   ]
  },
  {
   "cell_type": "markdown",
   "metadata": {},
   "source": [
    "## Dataset"
   ]
  },
  {
   "cell_type": "code",
   "execution_count": 129,
   "metadata": {},
   "outputs": [],
   "source": [
    "X_train_lda = np.array(list(map(np.array, data.lda_features)))\n",
    "X_train_w2v = np.array(list(map(np.array, data.w2v_features)))\n",
    "X_train_combined = np.append(X_train_lda, X_train_w2v, axis=1)"
   ]
  },
  {
   "cell_type": "code",
   "execution_count": 130,
   "metadata": {},
   "outputs": [
    {
     "data": {
      "text/plain": [
       "(4684, 350)"
      ]
     },
     "execution_count": 130,
     "metadata": {},
     "output_type": "execute_result"
    }
   ],
   "source": [
    "X_train_combined.shape"
   ]
  },
  {
   "cell_type": "markdown",
   "metadata": {},
   "source": [
    "## Clustering"
   ]
  },
  {
   "cell_type": "code",
   "execution_count": 61,
   "metadata": {},
   "outputs": [],
   "source": [
    "from sklearn.cluster import KMeans"
   ]
  },
  {
   "cell_type": "code",
   "execution_count": 131,
   "metadata": {},
   "outputs": [],
   "source": [
    "km = KMeans(5).fit(X_train_combined)"
   ]
  },
  {
   "cell_type": "code",
   "execution_count": 132,
   "metadata": {},
   "outputs": [],
   "source": [
    "comp = pd.DataFrame(data['text'])"
   ]
  },
  {
   "cell_type": "code",
   "execution_count": 133,
   "metadata": {},
   "outputs": [],
   "source": [
    "comp['clusters'] = km.predict(X_train_combined)"
   ]
  },
  {
   "cell_type": "code",
   "execution_count": 134,
   "metadata": {},
   "outputs": [
    {
     "data": {
      "text/plain": [
       "<matplotlib.axes._subplots.AxesSubplot at 0x7ff942dfa470>"
      ]
     },
     "execution_count": 134,
     "metadata": {},
     "output_type": "execute_result"
    },
    {
     "data": {
      "image/png": "[encoded data removed]",
      "text/plain": [
       "<Figure size 432x288 with 1 Axes>"
      ]
     },
     "metadata": {
      "needs_background": "light"
     },
     "output_type": "display_data"
    }
   ],
   "source": [
    "comp['clusters'].hist()"
   ]
  },
  {
   "cell_type": "code",
   "execution_count": 149,
   "metadata": {},
   "outputs": [
    {
     "data": {
      "text/plain": [
       "array(['je vais atteindre 60 ans dans deux mois', 'bjr toutes et tous',\n",
       "       'jai un regime alimentaire a 1200 cal et je nais pas perdu un seul gramme ! ! ! ! ! ! ! ! je suis desespere',\n",
       "       'bonjour jai 56 ans', 'jai 74 ans', 'jours',\n",
       "       'bonjour depuis 3j j ? ai environ des selles noir',\n",
       "       'bonjour jai fait un a', 'je nai seulement 26',\n",
       "       'bonjour je suis rompu le frein pendant un rapport sexuel',\n",
       "       'jai 44 ans', 'bonjour',\n",
       "       'bonjour tous je me permets de demander votre avis',\n",
       "       'je souffre depuis plusieurs semaines de paresthsies des extrmits dabors pas moment',\n",
       "       'je suis trs angoisse',\n",
       "       'bonjour tous ! jai 37ans et je suis mre de deux filles',\n",
       "       'bonjour a tous ! je m ? appelle andy et jai 20 ans je pratique de la musculation depuis 1 ans et un sport d ? quipe et je suis tudiant',\n",
       "       'bonjour tous ! je suis actuellement en seconde anne de bac pro assp donc en premire et jai actuellement 16 ans mes 17 ans en octobre 2017',\n",
       "       'bonjour tous ! je suis mre dune petite fille de 20 mois',\n",
       "       'bonjour tous ! je suis une fille de 16ans plutt sportive escalade musculation badminton',\n",
       "       'bonjour tous ! mon fils de 2 ans 12 est neutropenique depuis lage d1 an',\n",
       "       'bonjour a tous je me prsente rapidement je mappelle arnaud jai 37 ans et je travail en hypermarch',\n",
       "       'bonjour tous voil jai 19 ans et pour vous expliquer un peu je suis en premire anne dide et on a appris les nvroses et les maladies psychologiques',\n",
       "       'bonjour a tous et toutes jai depuis 1 an un gros bouton la fesse',\n",
       "       'depuis 8 ans',\n",
       "       'bonjour tous je cherche des infos sur mes tches beiges que jai sous les yeux',\n",
       "       'bonjour a tous je mappele sophie jai 26 ans je me suis inscrite sur ce forum afin davoir des rponses suite a des problemes mdicaux persistant',\n",
       "       'bonjour a tous je suis inquiet car je suis pileptique et migraineux severe',\n",
       "       'bonjour tous je suis une jeune gabonaise qui cherche des rponses',\n",
       "       'bonjour tous je viens vers vous un peu prcipitamment et dans lurgence',\n",
       "       'bonjour a tous voil je me pose certaines questions sur mon foie',\n",
       "       'cette maladie prend deux ans et je suis inquite',\n",
       "       'bonjour tous ! jai des troubles du sommeil pendant 3 mois environ',\n",
       "       'bonjour tous ! jai les oreilles qui sont bouches en continu tous les jours depuis aout 2010',\n",
       "       'bonjour tous je cherche a comprendre ! voila quand je me concentre quelques secondes j arrive me donner la chair de poule et ce toutes les 2 secondes si je le souhaite',\n",
       "       'bonjour tous alors voil jai un peu de mal formuler ma question mais je vais essay',\n",
       "       'bonjour tous alors voil jai fais une prpa concours a s y a longtemps y a 3 ans dj',\n",
       "       'bonjour tous apres avoir parcouru plusieurs forum je me dcide poster ici en esprant trouver quelques renseignements',\n",
       "       'bonjour tous depuis maintenant 2 ans je souffre de maux de ventre terribles vertiges malaises mal de dos intenses',\n",
       "       '270 4',\n",
       "       'bonjour tous jai 16 ans et mon penis ne fait que 7 cm en erection',\n",
       "       'bonjour tous jai 34 ans et je suis astigmate',\n",
       "       'bonjour tous jai 44 ans', 'bonjour tous jai besoin dinfo',\n",
       "       'mais depuis 2 ans je ressens des vertiges lorsque je fixe',\n",
       "       'bonjour tous je mappelle julien jai 33 ans et je suis actuellement expatri au cambodge depuis octobre 2017',\n",
       "       '3 ans', '3 seulement ! ! vraiment', 'alors voil', 'j ? ai 19 ans',\n",
       "       'je suis',\n",
       "       'bonjour tous je souffre depuis plus de 2 ans et depuis 1 mois on ma diagnostiqu un sadam',\n",
       "       'bonjour tous je souffre depuis plusieurs semaines dun trouble extrmement gnant quest lhypersalivation',\n",
       "       'bonjour tous je souhaiterai avoir des avis concernant ma situation personnelle',\n",
       "       'bonjour tous je suis all voir un endocrinologue car jai 20 ans voix aigu pas de poils et visage enfantin',\n",
       "       'bonjour tous je suis atteinte de syndrome douloureux vsical depuis plus dun an',\n",
       "       'bonjour tous je suis en pleine panique',\n",
       "       'bonjour tous je suis nouveau sur le site',\n",
       "       'bonjour tous je suis nouvelle sur le forum je viens vers vous concernant mon fils ag de 3 ans bientt',\n",
       "       'bonjour tous je suis suivie depuis 3 ans au moins par un psychiatre qui me prescrit du dpamide 300',\n",
       "       'an depuis plusieurs annes', 'bonjour tous je suis un homme',\n",
       "       'bonjour tous je suis un jeune homme de 22ans un peu perplexe quant mon tat de sant actuel je mexplique',\n",
       "       'bonjour tous je vis un calvaire depuis trois mois',\n",
       "       'bonjour tous je vous cris un peu par dsespoir',\n",
       "       'j ? ai 26 ans et mes dernire rgles naturelles remontent mes 20 ans il me semble',\n",
       "       'bonjour tous je vous explique mon problme',\n",
       "       'bonjour tous jespre que je suis au bon endroit pour ma question',\n",
       "       'bonjour tous ma mre est atteinte depuis plus de 6 mois de dmangeaisons inexpliques',\n",
       "       'bonjour tous petit rcapitulatif des msaventures de mon coude droit',\n",
       "       'bonjour tous voici le calvaire que je passe depuis plus de 3 semaines je prcise que je suis une jeune femme de 26 ans',\n",
       "       'je nai', 'je',\n",
       "       'bonjour tous voil je souffre depuis depuis 8 ans dune douleur situe la jonction entre occipital temporal parietal gauche pour situer',\n",
       "       'bonjour tous jai 21ans et suis fils de militaire', 'bonjour tous',\n",
       "       'je suis toute nouvelle',\n",
       "       'bonjour toutes et tous merci de me fournir des informations concernant la myasthnie svp crdt',\n",
       "       'bonjour toutes et tous je cherche comprendre mieux ma situation je suis diagnostique ayant hashimoto depuis plus de trois ans jai 27 ans',\n",
       "       'bonjour toutes et tous je mappelle corentin et jai 22ans',\n",
       "       'bonjour toutes et tous je souffre affreusement de crampes atroces depuis maintenant quelques annes',\n",
       "       'bonjour toutes et tous voil je vous explique mon problme',\n",
       "       'bonjour toutes et tous', 'je suis nouvelle sur ce forum',\n",
       "       'bonjour toutes et tous voil le tableau',\n",
       "       'bonjour a vous tous ! je mapelle audrey jai 17ans et je vie dans le 13',\n",
       "       'bonjour j ? ai 18ans je fume depuis 1 an maintenant',\n",
       "       'bonjour jai 34 ans', 'jai', 'bonjour je mappelle josiane',\n",
       "       'bonjour je souffre de cette maladie depuis quelques annes',\n",
       "       'bonjour je suis actuellement 39 semaines de grossesse',\n",
       "       'malheureusement depuis environ 2 semaines je fais toujours le mme rve',\n",
       "       'bonjour je suis nouvelle sur ce forum et jai des questions concernant la thyroid',\n",
       "       'bonjour je suis nouvelle',\n",
       "       'je souffre de fibro depuis prs de 15ans',\n",
       "       'bonjour je viens de recevoir mon bilan sanguin',\n",
       "       'bonjour jespre poster au bon endroit', 'bonjour le groupe',\n",
       "       'bonjour les filles jai 32 ans et suis mnopause',\n",
       "       'bonjour mes rsultats sont catastrophique hachimoto depuis 7 ans',\n",
       "       '6 mois', 'bonjour toutes',\n",
       "       'je suis g de 26 ans clibataire et sans enfants',\n",
       "       'bonjour voil mon problme',\n",
       "       'personnellement je prends ce mdicament depuis 4 mois',\n",
       "       'bonjour ! jai un souci et je suis en panique depuis',\n",
       "       'bonjour ! ! je vien sur ce fiorum car je suis un peu dmuni',\n",
       "       'bonjour avant dexposer mon problme actuel je vais replacer le contexte je suis g de 19 ans bientt 20',\n",
       "       'bonjour alors je souffre depuis quelques annes de troubles anxieux sociaux principalements qui nont jamais vraiment t trats',\n",
       "       'bonjour avant toutes choses je salur tous les membres de ce forum',\n",
       "       'bonjour bonsoir je me prsente jai 23 ans et jai russi le concours de sous officier de gendarmerie session mars 2017',\n",
       "       'malheureusement les quelques forum o jai partag mon maltre mont',\n",
       "       'bonjour bonsoir', 'jai 27 ans je fais 1m69 et 58kg',\n",
       "       'bonjour ceci concerne mon fils de 7 ans',\n",
       "       'depuis 1980 je ressens certaines choses ! je vais bientt prendre 60 ans',\n",
       "       'bonjour cela fais un peu plus dun ans que je souffre',\n",
       "       'je suis toujours fatigue pourtant chaque nuit je dors environ 8h',\n",
       "       'bonjour cela fait depuis le mois de mai 2017 que je suis en arrt symptmes',\n",
       "       'bonjour depuis 2 mois je traine un prionyxis lorteil',\n",
       "       'bonjour depuis 3 semaines maintenant je traine des douleurs la cuisse gauche',\n",
       "       'bonjour depuis environ une semaine et demie je suis fatigue et mange peu',\n",
       "       'bonjour depuis plusieurs mois on cherche lorigine des troubles respiratoires que je ressens',\n",
       "       'bonjour depuis quelques annes 3 ans jai une douleur chronique au dos',\n",
       "       'bonjour en ce moment je fais des crises dangoisse tous les jours problmes personnels donc jai des vomissements tous les jours des brlures destomac incessantes',\n",
       "       'bonjour il y a deux ans je me suis sorti la hanche et depuis jai des problmes',\n",
       "       'depuis quelques annes je souffre de douleurs musculaires',\n",
       "       'suite cela je suis coince au lit depuis deux semaines',\n",
       "       'bonjour jai 17 ans et je prsente des lgres pertes de mmoire',\n",
       "       'bonjour jai 17 ans je suis myope et voil que jai un problme',\n",
       "       'bonjour jai 18 ans et depuis 1 mois je suis trs fatigue par moment trs rapides 2 3 secondes quand a a commenc',\n",
       "       'bonjour jai 18 ans et je suis asthmatique depuis toujours',\n",
       "       'bonjour jai 21ans et je suis suis boulimique depuis des annes',\n",
       "       'bref je suis en surpoids depuis mon',\n",
       "       'bonjour jai 23ans et depuis environ 4ans jangoisse',\n",
       "       'bonjour jai 24ans et depuis quelques mois je suis tout le temps fatigue je dors beaucoup jai des fourmilles aux extrmits des douleurs musculaires des rgles trs abondantes perte de cheveux',\n",
       "       'bonjour jai 25 ans et depuis de nombreuses annes je remarque des problmes d visions',\n",
       "       'bonjour jai 25 ans et je suis chaudronnire et maman de deux enfants',\n",
       "       'je rcapitule', 'bonjour jai 28 ans 1m75 85 kg',\n",
       "       'jtais sous propanolol pendant 7 ans depuis 1 an et demi je suis sous nebivolol 12',\n",
       "       'bonjour jai 35 ans et a fait 5 ans que jai des sciatiques cruralgies rptition tous les 3 mois environ',\n",
       "       'bonjour jai 35 ans et mes pieds ont grandi ! jai pris 2 pointures sur une priode de 3 ans',\n",
       "       'bonjour jai 35 ans',\n",
       "       'bonjour jai 42 ans voil depuis quelques jours jai un lumbago',\n",
       "       'bonjour jai 45 ans',\n",
       "       'bonjour jai 47 ans et je suis mnopause depuis lge de 41 ans',\n",
       "       'bonjour jai 65 ans et je vis en algrie',\n",
       "       'je suis porteuse de valve aortique depuis presque 20 ans',\n",
       "       'bonjour jai dcouvert des pelades sur mon cuir chevelu',\n",
       "       'je prcise que je suis un homme de 48 ans', 'je prcise qutant',\n",
       "       'bonjour jai depuis 3 ans une hpatite autoimmune', 'environ 7mm2',\n",
       "       'bonjour jai quelques inquitudes au sujet de mes analyses',\n",
       "       'jai 39 ans',\n",
       "       'je suis marie et maman de 2 petites filles de 16 mois et 4 ans',\n",
       "       'bonjour je fais un rgime depuis le mois doctobre 2008 dukan et jai perdu 18 kgs',\n",
       "       'depuis 2 mois environ je me sents fatigue bien que je prends tous les jours un comprim de multivitamines et oligolments de chez nutrisant',\n",
       "       'bonjour je mappelle joelle je viens juste davoir 55ans',\n",
       "       'voil dj jai 44 ans jai 3 enfants',\n",
       "       'bonjour je me permet douvrir un nouveau sujet concernant un problme qui me perturbe depuis maintenant 2 ans',\n",
       "       'pendant 5 ans',\n",
       "       'bonjour je me prsente j ? ai 16 ans je suis nouvelle ici',\n",
       "       'bonjour je me prsente jai 45 ans et je suis guri depuis environ 3 ans',\n",
       "       'bonjour je minterroge sur des symptomes que jprouve depuis quelques temps maintenant',\n",
       "       'bonjour je souffre dhypersomnie idiopathique depuis 6 ans',\n",
       "       'je suis suivie', '15 3', '3 25 anticoprs',\n",
       "       'bonjour je suis dsespre',\n",
       "       'bonjour je suis en insuffisance rnale depuis quelques annes dja',\n",
       "       'bonjour je suis tudiante en psychologie lucl',\n",
       "       'il y a de cela 3 ans et demi je',\n",
       "       'bonjour je suis maman de 3 enfants de 7 ans 3 ans et 11 mois',\n",
       "       'jai 34 ans',\n",
       "       'bonjour je suis medecin jai 30 ans et je nai aucun antcdent pathologique',\n",
       "       'bonjour je suis tho lve en 1re es et jai 16 ans',\n",
       "       'jai 29 ans et voil bientot 11 ans que je souffre de fatigue chronique dun tat dpuisement rcurent',\n",
       "       'bonjour je suis un homme de 27 ans',\n",
       "       'bonjour je suis un homme de 37 ans je nai jamais eu de problme auparavant',\n",
       "       'bonjour je suis une femme de 51 ans',\n",
       "       'bonjour je suis une jeune femme',\n",
       "       'bonjour je trane depuis plusieurs mois un problme de fatigue chronique',\n",
       "       'je suis avec mon ami depuis quelques mois on se connait depuis pres de 10 ans et perdu de vue pendant quelques annes',\n",
       "       'bonjour je viens de recevoir mes analyses hemathologie enzymologie biochimie',\n",
       "       'bonjour je viens sur ce forum car je suis dsespre',\n",
       "       'entre temps je me suis plainte',\n",
       "       'bonjour je vous cris car je suis dsespre',\n",
       "       'bonjour me revoici aprs quelques annes dabsence',\n",
       "       'je prends du levothyroxine depuis plusieurs annes dj',\n",
       "       'jai 45 ans', 'et ce depuis 3 mois',\n",
       "       'apres quelques mois je me suis sentie mieux',\n",
       "       'je suis en surpoids',\n",
       "       'bonjour voil quelques mois que je suis dans cette spiral infernal de gaz et gargouillis incessant qui rythme mon quotidien',\n",
       "       'depuis plusieurs annes',\n",
       "       'bonjour depuis un long moment je suis en depression jai des sauts dhumeur avec de lirritabilit jai eu une prise de poids inexpliqu et je nai pas eu mes rgles depuis plusieurs mois',\n",
       "       'jai 49 ans',\n",
       "       'jai 15 ans et depuis deux mois environ un problme persiste',\n",
       "       'jai 20 ans et je suis parisien', 'bonjourbonsoir toutes et tous',\n",
       "       'bonsoir a tous',\n",
       "       'bonsoir tous tout dabord je me prsente je suis nikola 22 ans',\n",
       "       'bonsoir tous', 'je suis mre depuis 2mois',\n",
       "       'bonsoir toutes et tous donc voil je me prsente johnsnow8',\n",
       "       '0 27 ans et nouveau sur le forum',\n",
       "       'bonsoir je vous explique mon problmes', 'bonsoir les filles',\n",
       "       'bonsoir tous le monde jai 19 ans je suis vgtarienne depuis toujours',\n",
       "       'bonsoir', 'je suis positive', 'coucou toutes',\n",
       "       'je suis mari depuis maintenant 4ans mais malheureuse en couple',\n",
       "       'voil je suis un nouveau porteur de lentilles et jai quelques soucis',\n",
       "       'il y a plusieurs annes jai maigri en quelques semaines',\n",
       "       'jai 19ans je vis en afrique cameroun et orphelin',\n",
       "       'maintenant je suis sous aspgic 100 mg',\n",
       "       'je prend lexomil depuis 15 ans je voudrais latr', '6 4',\n",
       "       'arrt sportif depuis 10 ans',\n",
       "       'je suis trs souple hyperlaxit de naissance et suis atteinte de la fibro depuis 7 ans',\n",
       "       'je suis une femme de 59 ans', 'je fais des brushing rgulirement',\n",
       "       'mais depuis quelques jours il',\n",
       "       'pour une bonne utilisation du forum et un bon suivi des discussions veuillez respecter quelques rgles toutes simples',\n",
       "       'pumpum bonjour toutes',\n",
       "       'salut tous je m ? appel hugo j ? ai 17 ans et je viens de m ? inscrire sur vulgaris et j ? ai une question poser car je suis inquiets depuis quelques jours',\n",
       "       'salut tous je mappelle melissa jai 20 ans et je fais 38 kilos pour 1m60',\n",
       "       'salut tous', 'je me nomme thomas jai 15 ans',\n",
       "       'salut toutes la communaut',\n",
       "       'jai 34ans et je suis drpanocytaire de type ss',\n",
       "       'salut alors voila jai 16 ans et je suis une fille',\n",
       "       '6 octobre200849', 'salut',\n",
       "       'je suis une jeune marocaine agee de 28 ans', 'voila jai 17 ans',\n",
       "       'voil tout dabord bonjour ou bonsoir tous'], dtype=object)"
      ]
     },
     "execution_count": 149,
     "metadata": {},
     "output_type": "execute_result"
    }
   ],
   "source": [
    "comp[comp['clusters']==1]['text'].unique()"
   ]
  },
  {
   "cell_type": "markdown",
   "metadata": {},
   "source": [
    "## Still to try..."
   ]
  },
  {
   "cell_type": "markdown",
   "metadata": {},
   "source": [
    "### LSI"
   ]
  },
  {
   "cell_type": "code",
   "execution_count": 56,
   "metadata": {},
   "outputs": [],
   "source": [
    "from gensim import corpora, models, utils\n",
    "import logging\n",
    "logging.basicConfig(format='%(asctime)s : %(levelname)s : %(message)s', level=logging.INFO)"
   ]
  },
  {
   "cell_type": "code",
   "execution_count": null,
   "metadata": {},
   "outputs": [],
   "source": [
    "corpus = corpora.MmCorpus('/tmp/deerwester.mm') # load a corpus of nine documents, from the Tutorials\n",
    "id2word = corpora.Dictionary.load('/tmp/deerwester.dict')"
   ]
  },
  {
   "cell_type": "code",
   "execution_count": null,
   "metadata": {},
   "outputs": [],
   "source": [
    "lsi = models.LsiModel(corpus, id2word=id2word, num_topics=200, chunksize=1, distributed=True) # run distributed LSA on nine documents"
   ]
  },
  {
   "cell_type": "code",
   "execution_count": null,
   "metadata": {},
   "outputs": [],
   "source": [
    "W2Vmodel.wv.vocab + dictionary"
   ]
  },
  {
   "cell_type": "code",
   "execution_count": null,
   "metadata": {},
   "outputs": [],
   "source": [
    "lsi = models.LsiModel(X_train_combined, num_topics=200, chunksize=1, distributed=True)"
   ]
  },
  {
   "cell_type": "code",
   "execution_count": null,
   "metadata": {},
   "outputs": [],
   "source": [
    "lsi.print_topics(num_topics=2, num_words=5)"
   ]
  }
 ],
 "metadata": {
  "kernelspec": {
   "display_name": "Python 3",
   "language": "python",
   "name": "python3"
  },
  "language_info": {
   "codemirror_mode": {
    "name": "ipython",
    "version": 3
   },
   "file_extension": ".py",
   "mimetype": "text/x-python",
   "name": "python",
   "nbconvert_exporter": "python",
   "pygments_lexer": "ipython3",
   "version": "3.6.6"
  }
 },
 "nbformat": 4,
 "nbformat_minor": 2
}
